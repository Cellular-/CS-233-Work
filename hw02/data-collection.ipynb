{
 "cells": [
  {
   "cell_type": "markdown",
   "metadata": {},
   "source": [
    "## JSON data parsing"
   ]
  },
  {
   "cell_type": "code",
   "execution_count": null,
   "metadata": {},
   "outputs": [],
   "source": [
    "import json\n",
    "import pandas as pd"
   ]
  },
  {
   "cell_type": "code",
   "execution_count": null,
   "metadata": {},
   "outputs": [],
   "source": [
    "json_data = json.load(open('data.json'))\n",
    "cols = [col[\"fieldName\"] for col in json_data[\"meta\"][\"view\"][\"columns\"]]\n",
    "json_df = pd.DataFrame(json_data[\"data\"], columns=cols)\n",
    "json_df = json_df.drop(cols[:8], axis=1) # Drop the first 8 columns. These data are not present in the xml so no need.\n",
    "json_df.set_index(\"state_or_nation\")\n",
    "json_df.shape"
   ]
  },
  {
   "cell_type": "markdown",
   "metadata": {},
   "source": [
    "## XML data Parsing"
   ]
  },
  {
   "cell_type": "code",
   "execution_count": null,
   "metadata": {},
   "outputs": [],
   "source": [
    "from lxml import objectify"
   ]
  },
  {
   "cell_type": "code",
   "execution_count": null,
   "metadata": {},
   "outputs": [],
   "source": [
    "parsed_xml = objectify.parse(open(\"rows.xml\"))\n",
    "root = parsed_xml.getroot()"
   ]
  },
  {
   "cell_type": "code",
   "execution_count": null,
   "metadata": {},
   "outputs": [],
   "source": [
    "data = []\n",
    "\n",
    "for elt in root.row.row:\n",
    "    el_data = {}\n",
    "    for child in elt.getchildren():\n",
    "        el_data[child.tag] = child.pyval\n",
    "    data.append(el_data)\n",
    "    \n",
    "xml_df = pd.DataFrame(data)\n",
    "xml_df.head()\n",
    "xml_df.set_index(\"state_or_nation\")\n",
    "xml_df.shape"
   ]
  },
  {
   "cell_type": "markdown",
   "metadata": {},
   "source": [
    "## Merging and comparing"
   ]
  },
  {
   "cell_type": "code",
   "execution_count": null,
   "metadata": {},
   "outputs": [],
   "source": [
    "merged = json_df.merge(xml_df, on=\"state_or_nation\")\n",
    "merged.to_csv(\"joined_data.csv\")"
   ]
  },
  {
   "cell_type": "code",
   "execution_count": null,
   "metadata": {},
   "outputs": [],
   "source": [
    "jcol_df = pd.DataFrame([col for col in json_df.columns])\n",
    "xcol_df = pd.DataFrame([col for col in xml_df.columns])\n",
    "\n",
    "for col in [col for col in json_df.columns]:\n",
    "    for i in zip(json_df[col],xml_df[col]):\n",
    "        print(i[0], i[1])"
   ]
  },
  {
   "cell_type": "markdown",
   "metadata": {},
   "source": [
    "## Questions:"
   ]
  },
  {
   "cell_type": "markdown",
   "metadata": {},
   "source": [
    "1. The two above datasets were linked from this datasearch description. Does the description give a good overview of the data?\n",
    "\n",
    "        No, the description doesn't mention that this data looks to be nursing home related. It mentions state averages, and other measures, but should really inform the user that this is nursing home data.\n",
    " \n",
    "2. Do the two datasets contain the same information? What is different about them?\n",
    "\n",
    "        No, the JSON dataset had more data. The JSON dataset contained other information such as metadata about the columns, dataset tags, publication dates, and dataset owner information.\n",
    "\n",
    "3. Why did you decide to use the columns that you chose?\n",
    "\n",
    "        I clipped off the first 8 columns from the JSON data after it was loaded into a dataframe because those columns did not exist in the XML data. I decided to compare all values in the remaining columns just for research purposes. \n",
    "    \n",
    "4. What kinds of information can you learn from the data?\n",
    "\n",
    "        I could learn about which states have the highest resident to nursing home ratio. With that, I could find out if there is a correlation between high resident nursing homes and number of fines. I'd hypothesize that nursing homes with high residents and low nurse counts would be fined more due to understaffing and cutting corners.\n",
    "        \n",
    "5. Compare how much effort it took you to parse through the json vs. the xml file. What do you prefer? Why?\n",
    "\n",
    "        Parsing the loading the xml took a lot more effort than loading the json and was pretty frustrating at first. I would much rather work with JSON data because it is better structured and similar to python dictionaries. I know that XML is still a prominent data format so learning to parse XML was worth learning."
   ]
  }
 ],
 "metadata": {
  "kernelspec": {
   "display_name": "Python 3",
   "language": "python",
   "name": "python3"
  },
  "language_info": {
   "codemirror_mode": {
    "name": "ipython",
    "version": 3
   },
   "file_extension": ".py",
   "mimetype": "text/x-python",
   "name": "python",
   "nbconvert_exporter": "python",
   "pygments_lexer": "ipython3",
   "version": "3.7.2"
  }
 },
 "nbformat": 4,
 "nbformat_minor": 2
}
