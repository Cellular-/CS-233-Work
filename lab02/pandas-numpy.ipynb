{
 "cells": [
  {
   "cell_type": "code",
   "execution_count": 2,
   "metadata": {},
   "outputs": [],
   "source": [
    "import numpy as np, pandas as pd"
   ]
  },
  {
   "cell_type": "markdown",
   "metadata": {},
   "source": [
    "## Numpy"
   ]
  },
  {
   "cell_type": "markdown",
   "metadata": {},
   "source": [
    "1"
   ]
  },
  {
   "cell_type": "code",
   "execution_count": 3,
   "metadata": {},
   "outputs": [
    {
     "data": {
      "text/plain": [
       "array([1, 2, 3, 4, 5])"
      ]
     },
     "execution_count": 3,
     "metadata": {},
     "output_type": "execute_result"
    }
   ],
   "source": [
    "numpy_array = np.array([1,2,3,4,5])\n",
    "numpy_array"
   ]
  },
  {
   "cell_type": "markdown",
   "metadata": {},
   "source": [
    "2"
   ]
  },
  {
   "cell_type": "code",
   "execution_count": 4,
   "metadata": {},
   "outputs": [
    {
     "data": {
      "text/plain": [
       "array([1, 2, 3, 4, 5])"
      ]
     },
     "execution_count": 4,
     "metadata": {},
     "output_type": "execute_result"
    }
   ],
   "source": [
    "a = [1,2,3,4,5]\n",
    "a_numpy = np.array(a)\n",
    "a_numpy"
   ]
  },
  {
   "cell_type": "code",
   "execution_count": 5,
   "metadata": {},
   "outputs": [
    {
     "data": {
      "text/plain": [
       "array([[1],\n",
       "       [2],\n",
       "       [3],\n",
       "       [4],\n",
       "       [5]])"
      ]
     },
     "execution_count": 5,
     "metadata": {},
     "output_type": "execute_result"
    }
   ],
   "source": [
    "row_vector = a_numpy[:, np.newaxis]\n",
    "row_vector"
   ]
  },
  {
   "cell_type": "code",
   "execution_count": 6,
   "metadata": {},
   "outputs": [
    {
     "data": {
      "text/plain": [
       "array([[1, 2, 3, 4, 5]])"
      ]
     },
     "execution_count": 6,
     "metadata": {},
     "output_type": "execute_result"
    }
   ],
   "source": [
    "col_vector = a_numpy[np.newaxis, :]\n",
    "col_vector"
   ]
  },
  {
   "cell_type": "code",
   "execution_count": 7,
   "metadata": {},
   "outputs": [
    {
     "data": {
      "text/plain": [
       "array([[ 0,  1,  2,  3,  4],\n",
       "       [ 5,  6,  7,  8,  9],\n",
       "       [10, 11, 12, 13, 14]])"
      ]
     },
     "execution_count": 7,
     "metadata": {},
     "output_type": "execute_result"
    }
   ],
   "source": [
    "a = np.arange(0,15) # got an error when using `range(0,15)`\n",
    "b = a.reshape(3,5)\n",
    "b"
   ]
  },
  {
   "cell_type": "markdown",
   "metadata": {},
   "source": [
    "3"
   ]
  },
  {
   "cell_type": "code",
   "execution_count": 8,
   "metadata": {},
   "outputs": [
    {
     "data": {
      "text/plain": [
       "array([(1, 2), list([3, 4, 5]), (6, 7, 8)], dtype=object)"
      ]
     },
     "execution_count": 8,
     "metadata": {},
     "output_type": "execute_result"
    }
   ],
   "source": [
    "a = [(1,2), [3,4,(5)], (6,7,8)]\n",
    "b = np.asarray(a)\n",
    "b"
   ]
  },
  {
   "cell_type": "markdown",
   "metadata": {},
   "source": [
    "4"
   ]
  },
  {
   "cell_type": "code",
   "execution_count": 9,
   "metadata": {},
   "outputs": [
    {
     "data": {
      "text/plain": [
       "array([[0., 0., 0., 0.],\n",
       "       [0., 0., 0., 0.],\n",
       "       [0., 0., 0., 0.]], dtype=float16)"
      ]
     },
     "execution_count": 9,
     "metadata": {},
     "output_type": "execute_result"
    }
   ],
   "source": [
    "a =  np.zeros((3,4),dtype=np.float16)\n",
    "a"
   ]
  },
  {
   "cell_type": "markdown",
   "metadata": {},
   "source": [
    "5"
   ]
  },
  {
   "cell_type": "code",
   "execution_count": 10,
   "metadata": {},
   "outputs": [
    {
     "data": {
      "text/plain": [
       "array([[1, 1, 1, 1],\n",
       "       [1, 1, 1, 1],\n",
       "       [1, 1, 1, 1]])"
      ]
     },
     "execution_count": 10,
     "metadata": {},
     "output_type": "execute_result"
    }
   ],
   "source": [
    "a = np.ones((3,4), dtype=np.int32)\n",
    "a"
   ]
  },
  {
   "cell_type": "markdown",
   "metadata": {},
   "source": [
    "6"
   ]
  },
  {
   "cell_type": "code",
   "execution_count": 11,
   "metadata": {},
   "outputs": [
    {
     "data": {
      "text/plain": [
       "array([[1., 1., 1.],\n",
       "       [1., 1., 1.]], dtype=float16)"
      ]
     },
     "execution_count": 11,
     "metadata": {},
     "output_type": "execute_result"
    }
   ],
   "source": [
    "a = np.full((2,3),1,dtype=np.float16)\n",
    "a"
   ]
  },
  {
   "cell_type": "code",
   "execution_count": 12,
   "metadata": {},
   "outputs": [
    {
     "data": {
      "text/plain": [
       "array([[257, 257, 257],\n",
       "       [257, 257, 257],\n",
       "       [257, 257, 257]], dtype=int16)"
      ]
     },
     "execution_count": 12,
     "metadata": {},
     "output_type": "execute_result"
    }
   ],
   "source": [
    "x = np.empty((3,3),dtype=np.int16)\n",
    "x"
   ]
  },
  {
   "cell_type": "markdown",
   "metadata": {},
   "source": [
    "7"
   ]
  },
  {
   "cell_type": "code",
   "execution_count": 13,
   "metadata": {},
   "outputs": [
    {
     "data": {
      "text/plain": [
       "(array([1., 2., 3., 4., 5., 6., 7., 8., 9.]), 1.0)"
      ]
     },
     "execution_count": 13,
     "metadata": {},
     "output_type": "execute_result"
    }
   ],
   "source": [
    "np.linspace(1,10,num=9,endpoint=False,retstep=True)"
   ]
  },
  {
   "cell_type": "code",
   "execution_count": 14,
   "metadata": {},
   "outputs": [
    {
     "data": {
      "text/plain": [
       "array([0, 1, 2, 3, 4, 5, 6, 7, 8, 9])"
      ]
     },
     "execution_count": 14,
     "metadata": {},
     "output_type": "execute_result"
    }
   ],
   "source": [
    "np.arange(0,10,1)"
   ]
  },
  {
   "cell_type": "markdown",
   "metadata": {},
   "source": [
    "8"
   ]
  },
  {
   "cell_type": "code",
   "execution_count": 15,
   "metadata": {},
   "outputs": [
    {
     "data": {
      "text/plain": [
       "(5,)"
      ]
     },
     "execution_count": 15,
     "metadata": {},
     "output_type": "execute_result"
    }
   ],
   "source": [
    "a = np.array([1,2,3,4,5])\n",
    "a.shape"
   ]
  },
  {
   "cell_type": "markdown",
   "metadata": {},
   "source": [
    "9"
   ]
  },
  {
   "cell_type": "code",
   "execution_count": 16,
   "metadata": {},
   "outputs": [
    {
     "data": {
      "text/plain": [
       "1"
      ]
     },
     "execution_count": 16,
     "metadata": {},
     "output_type": "execute_result"
    }
   ],
   "source": [
    "x = np.array([1,2,3])\n",
    "x.ndim"
   ]
  },
  {
   "cell_type": "markdown",
   "metadata": {},
   "source": [
    "10"
   ]
  },
  {
   "cell_type": "code",
   "execution_count": 17,
   "metadata": {},
   "outputs": [
    {
     "data": {
      "text/plain": [
       "24"
      ]
     },
     "execution_count": 17,
     "metadata": {},
     "output_type": "execute_result"
    }
   ],
   "source": [
    "x = np.ones((3,2,4), dtype=np.int16)\n",
    "x.size"
   ]
  },
  {
   "cell_type": "markdown",
   "metadata": {},
   "source": [
    "11"
   ]
  },
  {
   "cell_type": "code",
   "execution_count": 18,
   "metadata": {},
   "outputs": [
    {
     "data": {
      "text/plain": [
       "48"
      ]
     },
     "execution_count": 18,
     "metadata": {},
     "output_type": "execute_result"
    }
   ],
   "source": [
    "x.nbytes"
   ]
  },
  {
   "cell_type": "markdown",
   "metadata": {},
   "source": [
    "12"
   ]
  },
  {
   "cell_type": "code",
   "execution_count": 19,
   "metadata": {},
   "outputs": [
    {
     "data": {
      "text/plain": [
       "dtype('int16')"
      ]
     },
     "execution_count": 19,
     "metadata": {},
     "output_type": "execute_result"
    }
   ],
   "source": [
    "x = np.ones((2,3), dtype=np.int16)\n",
    "x.dtype"
   ]
  },
  {
   "cell_type": "markdown",
   "metadata": {},
   "source": [
    "13"
   ]
  },
  {
   "cell_type": "code",
   "execution_count": 20,
   "metadata": {},
   "outputs": [],
   "source": [
    "y = np.array([[1,3],[5,6]])\n",
    "x = np.copy(y)"
   ]
  },
  {
   "cell_type": "markdown",
   "metadata": {},
   "source": [
    "14"
   ]
  },
  {
   "cell_type": "code",
   "execution_count": 21,
   "metadata": {},
   "outputs": [
    {
     "data": {
      "text/plain": [
       "array([[1, 3],\n",
       "       [2, 4]])"
      ]
     },
     "execution_count": 21,
     "metadata": {},
     "output_type": "execute_result"
    }
   ],
   "source": [
    "x = np.array([[1,2], [3,4]])\n",
    "x.T"
   ]
  },
  {
   "cell_type": "markdown",
   "metadata": {},
   "source": [
    "15"
   ]
  },
  {
   "cell_type": "code",
   "execution_count": 22,
   "metadata": {},
   "outputs": [
    {
     "data": {
      "text/plain": [
       "array([1, 2, 3, 4, 5, 6])"
      ]
     },
     "execution_count": 22,
     "metadata": {},
     "output_type": "execute_result"
    }
   ],
   "source": [
    "x = np.array([[1,2,3], [4,5,6]])\n",
    "x.reshape(-1)"
   ]
  },
  {
   "cell_type": "code",
   "execution_count": 23,
   "metadata": {},
   "outputs": [
    {
     "data": {
      "text/plain": [
       "array([1, 2, 3, 4, 5, 6])"
      ]
     },
     "execution_count": 23,
     "metadata": {},
     "output_type": "execute_result"
    }
   ],
   "source": [
    "x.ravel()"
   ]
  },
  {
   "cell_type": "markdown",
   "metadata": {},
   "source": [
    "16"
   ]
  },
  {
   "cell_type": "code",
   "execution_count": 24,
   "metadata": {},
   "outputs": [
    {
     "data": {
      "text/plain": [
       "array([[[1., 1., 1., 1.],\n",
       "        [1., 1., 1., 1.],\n",
       "        [1., 1., 1., 1.],\n",
       "        [1., 1., 1., 1.],\n",
       "        [1., 1., 1., 1.]],\n",
       "\n",
       "       [[1., 1., 1., 1.],\n",
       "        [1., 1., 1., 1.],\n",
       "        [1., 1., 1., 1.],\n",
       "        [1., 1., 1., 1.],\n",
       "        [1., 1., 1., 1.]],\n",
       "\n",
       "       [[1., 1., 1., 1.],\n",
       "        [1., 1., 1., 1.],\n",
       "        [1., 1., 1., 1.],\n",
       "        [1., 1., 1., 1.],\n",
       "        [1., 1., 1., 1.]]])"
      ]
     },
     "execution_count": 24,
     "metadata": {},
     "output_type": "execute_result"
    }
   ],
   "source": [
    "x = np.ones((3,4,5))\n",
    "np.moveaxis(x,[1], [2])"
   ]
  },
  {
   "cell_type": "code",
   "execution_count": 25,
   "metadata": {},
   "outputs": [
    {
     "data": {
      "text/plain": [
       "array([[1, 2],\n",
       "       [3, 4]])"
      ]
     },
     "execution_count": 25,
     "metadata": {},
     "output_type": "execute_result"
    }
   ],
   "source": [
    "x = np.array([[1,2], [3,4]])\n",
    "x.shape\n",
    "x"
   ]
  },
  {
   "cell_type": "code",
   "execution_count": 26,
   "metadata": {},
   "outputs": [
    {
     "data": {
      "text/plain": [
       "array([[1, 3],\n",
       "       [2, 4]])"
      ]
     },
     "execution_count": 26,
     "metadata": {},
     "output_type": "execute_result"
    }
   ],
   "source": [
    "np.swapaxes(x,0,1)"
   ]
  },
  {
   "cell_type": "markdown",
   "metadata": {},
   "source": [
    "17"
   ]
  },
  {
   "cell_type": "code",
   "execution_count": 27,
   "metadata": {},
   "outputs": [
    {
     "data": {
      "text/plain": [
       "[[3, 4, 5, 9], [2, 6, 8, 0]]"
      ]
     },
     "execution_count": 27,
     "metadata": {},
     "output_type": "execute_result"
    }
   ],
   "source": [
    "x = np.array([[3,4,5,9], [2,6,8,0]])\n",
    "y = x.tolist()\n",
    "y"
   ]
  },
  {
   "cell_type": "markdown",
   "metadata": {},
   "source": [
    "18"
   ]
  },
  {
   "cell_type": "code",
   "execution_count": 28,
   "metadata": {},
   "outputs": [
    {
     "data": {
      "text/plain": [
       "array([0, 1, 2, 3, 4], dtype=int16)"
      ]
     },
     "execution_count": 28,
     "metadata": {},
     "output_type": "execute_result"
    }
   ],
   "source": [
    "x = np.array([0,1,2.0,3.0,4.2], dtype=np.float32)\n",
    "x.astype(np.int16)"
   ]
  },
  {
   "cell_type": "code",
   "execution_count": 29,
   "metadata": {},
   "outputs": [
    {
     "data": {
      "text/plain": [
       "array([False,  True,  True,  True,  True])"
      ]
     },
     "execution_count": 29,
     "metadata": {},
     "output_type": "execute_result"
    }
   ],
   "source": [
    "x.astype(np.bool)"
   ]
  },
  {
   "cell_type": "markdown",
   "metadata": {},
   "source": [
    "19"
   ]
  },
  {
   "cell_type": "code",
   "execution_count": 30,
   "metadata": {},
   "outputs": [
    {
     "data": {
      "text/plain": [
       "(array([1, 2, 3, 4], dtype=int64),)"
      ]
     },
     "execution_count": 30,
     "metadata": {},
     "output_type": "execute_result"
    }
   ],
   "source": [
    "x = np.array([0,1,2.0,3.0,4.2], dtype=np.float32)\n",
    "x.nonzero()"
   ]
  },
  {
   "cell_type": "code",
   "execution_count": 31,
   "metadata": {},
   "outputs": [
    {
     "data": {
      "text/plain": [
       "(array([0, 1, 1], dtype=int64), array([1, 0, 1], dtype=int64))"
      ]
     },
     "execution_count": 31,
     "metadata": {},
     "output_type": "execute_result"
    }
   ],
   "source": [
    "x = np.array([[0,1], [3,5]])\n",
    "x.nonzero()"
   ]
  },
  {
   "cell_type": "markdown",
   "metadata": {},
   "source": [
    "20"
   ]
  },
  {
   "cell_type": "code",
   "execution_count": 32,
   "metadata": {},
   "outputs": [
    {
     "data": {
      "text/plain": [
       "array([[3, 4],\n",
       "       [2, 3]])"
      ]
     },
     "execution_count": 32,
     "metadata": {},
     "output_type": "execute_result"
    }
   ],
   "source": [
    "x = np.array([[4,3], [3,2]])\n",
    "x.sort(axis=1)\n",
    "x"
   ]
  },
  {
   "cell_type": "code",
   "execution_count": 33,
   "metadata": {},
   "outputs": [
    {
     "data": {
      "text/plain": [
       "array([[3, 2],\n",
       "       [4, 3]])"
      ]
     },
     "execution_count": 33,
     "metadata": {},
     "output_type": "execute_result"
    }
   ],
   "source": [
    "x = np.array([[4,3], [3,2]])\n",
    "x.sort(axis=0)\n",
    "x"
   ]
  },
  {
   "cell_type": "markdown",
   "metadata": {},
   "source": [
    "21"
   ]
  },
  {
   "cell_type": "code",
   "execution_count": 34,
   "metadata": {},
   "outputs": [
    {
     "data": {
      "text/plain": [
       "array([[False,  True],\n",
       "       [False, False]])"
      ]
     },
     "execution_count": 34,
     "metadata": {},
     "output_type": "execute_result"
    }
   ],
   "source": [
    "x = np.array([[0,1],[2,3]])\n",
    "x == 1"
   ]
  },
  {
   "cell_type": "code",
   "execution_count": 35,
   "metadata": {},
   "outputs": [
    {
     "data": {
      "text/plain": [
       "1"
      ]
     },
     "execution_count": 35,
     "metadata": {},
     "output_type": "execute_result"
    }
   ],
   "source": [
    "(x==1).astype(np.int16).sum()"
   ]
  },
  {
   "cell_type": "markdown",
   "metadata": {},
   "source": [
    "22"
   ]
  },
  {
   "cell_type": "code",
   "execution_count": 36,
   "metadata": {},
   "outputs": [
    {
     "data": {
      "text/plain": [
       "array([[1., 0.],\n",
       "       [0., 1.]])"
      ]
     },
     "execution_count": 36,
     "metadata": {},
     "output_type": "execute_result"
    }
   ],
   "source": [
    "a = np.eye(2)\n",
    "a"
   ]
  },
  {
   "cell_type": "code",
   "execution_count": 37,
   "metadata": {},
   "outputs": [
    {
     "data": {
      "text/plain": [
       "array([[1, 2],\n",
       "       [3, 4]])"
      ]
     },
     "execution_count": 37,
     "metadata": {},
     "output_type": "execute_result"
    }
   ],
   "source": [
    "b = np.array([[1,2], [3,4]])\n",
    "b"
   ]
  },
  {
   "cell_type": "code",
   "execution_count": 38,
   "metadata": {},
   "outputs": [
    {
     "data": {
      "text/plain": [
       "array([[1., 2.],\n",
       "       [3., 4.]])"
      ]
     },
     "execution_count": 38,
     "metadata": {},
     "output_type": "execute_result"
    }
   ],
   "source": [
    "np.matmul(a,b)"
   ]
  },
  {
   "cell_type": "markdown",
   "metadata": {},
   "source": [
    "23"
   ]
  },
  {
   "cell_type": "code",
   "execution_count": 39,
   "metadata": {},
   "outputs": [
    {
     "data": {
      "text/plain": [
       "array([[ 50],\n",
       "       [244]])"
      ]
     },
     "execution_count": 39,
     "metadata": {},
     "output_type": "execute_result"
    }
   ],
   "source": [
    "a = np.array([[1,2,3], [4,8,16]])\n",
    "b = np.array([5,6,11]).reshape(-1,1)\n",
    "\n",
    "np.dot(a,b)"
   ]
  },
  {
   "cell_type": "markdown",
   "metadata": {},
   "source": [
    "24"
   ]
  },
  {
   "cell_type": "code",
   "execution_count": 40,
   "metadata": {},
   "outputs": [
    {
     "data": {
      "text/plain": [
       "array([-3,  6, -3])"
      ]
     },
     "execution_count": 40,
     "metadata": {},
     "output_type": "execute_result"
    }
   ],
   "source": [
    "x = [1,2,3]\n",
    "y = [4,5,6]\n",
    "\n",
    "z = np.cross(x,y)\n",
    "z"
   ]
  },
  {
   "cell_type": "markdown",
   "metadata": {},
   "source": [
    "25"
   ]
  },
  {
   "cell_type": "code",
   "execution_count": 41,
   "metadata": {},
   "outputs": [
    {
     "data": {
      "text/plain": [
       "array([5. , 4.5, 3.5, 2.5, 4.5, 7. ])"
      ]
     },
     "execution_count": 41,
     "metadata": {},
     "output_type": "execute_result"
    }
   ],
   "source": [
    "x = np.array([5,10,14,17,19,26])\n",
    "np.gradient(x)"
   ]
  },
  {
   "cell_type": "markdown",
   "metadata": {},
   "source": [
    "26"
   ]
  },
  {
   "cell_type": "code",
   "execution_count": 43,
   "metadata": {},
   "outputs": [
    {
     "data": {
      "text/plain": [
       "array([2, 4, 7, 8])"
      ]
     },
     "execution_count": 43,
     "metadata": {},
     "output_type": "execute_result"
    }
   ],
   "source": [
    "x = np.array([[2,4,9], [3,1,5], [7,8,0]])\n",
    "\n",
    "x[[0,0,2,2], [0,1,0,1]]"
   ]
  },
  {
   "cell_type": "markdown",
   "metadata": {},
   "source": [
    "27"
   ]
  },
  {
   "cell_type": "code",
   "execution_count": 47,
   "metadata": {},
   "outputs": [
    {
     "data": {
      "text/plain": [
       "array([[ 5,  8, 12],\n",
       "       [ 6,  8, 10],\n",
       "       [11, 10,  6]])"
      ]
     },
     "execution_count": 47,
     "metadata": {},
     "output_type": "execute_result"
    }
   ],
   "source": [
    "a = np.array([[3,5,8],[4,5,6],[9,7,2]])\n",
    "b = np.array([2,3,4])\n",
    "\n",
    "a + b"
   ]
  },
  {
   "cell_type": "markdown",
   "metadata": {},
   "source": [
    "## Pandas"
   ]
  },
  {
   "cell_type": "markdown",
   "metadata": {},
   "source": [
    "1"
   ]
  },
  {
   "cell_type": "code",
   "execution_count": 48,
   "metadata": {},
   "outputs": [],
   "source": [
    "df = pd.read_csv(\"imdb_ratings.csv\")"
   ]
  },
  {
   "cell_type": "markdown",
   "metadata": {},
   "source": [
    "2"
   ]
  },
  {
   "cell_type": "code",
   "execution_count": 49,
   "metadata": {},
   "outputs": [
    {
     "data": {
      "text/html": [
       "<div>\n",
       "<style scoped>\n",
       "    .dataframe tbody tr th:only-of-type {\n",
       "        vertical-align: middle;\n",
       "    }\n",
       "\n",
       "    .dataframe tbody tr th {\n",
       "        vertical-align: top;\n",
       "    }\n",
       "\n",
       "    .dataframe thead th {\n",
       "        text-align: right;\n",
       "    }\n",
       "</style>\n",
       "<table border=\"1\" class=\"dataframe\">\n",
       "  <thead>\n",
       "    <tr style=\"text-align: right;\">\n",
       "      <th></th>\n",
       "      <th>Votes</th>\n",
       "      <th>Rank</th>\n",
       "      <th>Title</th>\n",
       "      <th>Year</th>\n",
       "      <th>Decade</th>\n",
       "    </tr>\n",
       "  </thead>\n",
       "  <tbody>\n",
       "    <tr>\n",
       "      <th>0</th>\n",
       "      <td>88355</td>\n",
       "      <td>8.4</td>\n",
       "      <td>M (1931)</td>\n",
       "      <td>1931</td>\n",
       "      <td>1930</td>\n",
       "    </tr>\n",
       "    <tr>\n",
       "      <th>1</th>\n",
       "      <td>132823</td>\n",
       "      <td>8.3</td>\n",
       "      <td>Singin' in the Rain (1952)</td>\n",
       "      <td>1952</td>\n",
       "      <td>1950</td>\n",
       "    </tr>\n",
       "    <tr>\n",
       "      <th>2</th>\n",
       "      <td>74178</td>\n",
       "      <td>8.3</td>\n",
       "      <td>All About Eve (1950)</td>\n",
       "      <td>1950</td>\n",
       "      <td>1950</td>\n",
       "    </tr>\n",
       "    <tr>\n",
       "      <th>3</th>\n",
       "      <td>635139</td>\n",
       "      <td>8.6</td>\n",
       "      <td>Léon (1994)</td>\n",
       "      <td>1994</td>\n",
       "      <td>1990</td>\n",
       "    </tr>\n",
       "    <tr>\n",
       "      <th>4</th>\n",
       "      <td>145514</td>\n",
       "      <td>8.2</td>\n",
       "      <td>The Elephant Man (1980)</td>\n",
       "      <td>1980</td>\n",
       "      <td>1980</td>\n",
       "    </tr>\n",
       "  </tbody>\n",
       "</table>\n",
       "</div>"
      ],
      "text/plain": [
       "    Votes  Rank                       Title  Year  Decade\n",
       "0   88355   8.4                    M (1931)  1931    1930\n",
       "1  132823   8.3  Singin' in the Rain (1952)  1952    1950\n",
       "2   74178   8.3        All About Eve (1950)  1950    1950\n",
       "3  635139   8.6                 Léon (1994)  1994    1990\n",
       "4  145514   8.2     The Elephant Man (1980)  1980    1980"
      ]
     },
     "execution_count": 49,
     "metadata": {},
     "output_type": "execute_result"
    }
   ],
   "source": [
    "c1, c2, c3, *rest = df.columns\n",
    "d_dic = {'first_col_name':c1, 'second_col_names':c2, '3rd_col_name':c3}\n",
    "new_df = pd.DataFrame(data = d_dic, index = [0])\n",
    "\n",
    "np_data = np.zeros((3,3))\n",
    "\n",
    "new_df = pd.DataFrame(data = np_data, columns = d_dic)\n",
    "\n",
    "df.head()"
   ]
  },
  {
   "cell_type": "code",
   "execution_count": null,
   "metadata": {},
   "outputs": [],
   "source": []
  },
  {
   "cell_type": "markdown",
   "metadata": {},
   "source": [
    "3"
   ]
  },
  {
   "cell_type": "code",
   "execution_count": 50,
   "metadata": {},
   "outputs": [
    {
     "data": {
      "text/plain": [
       "240     117590\n",
       "241      85012\n",
       "242     476501\n",
       "243     268905\n",
       "244      69988\n",
       "245    1078416\n",
       "246      31003\n",
       "247     167076\n",
       "248      91689\n",
       "249     589477\n",
       "Name: Votes, dtype: int64"
      ]
     },
     "execution_count": 50,
     "metadata": {},
     "output_type": "execute_result"
    }
   ],
   "source": [
    "df.head()\n",
    "df.tail()\n",
    "\n",
    "col = df.columns[0]\n",
    "\n",
    "df[col].head(10)\n",
    "df[col].tail(10)"
   ]
  },
  {
   "cell_type": "markdown",
   "metadata": {},
   "source": [
    "4"
   ]
  },
  {
   "cell_type": "code",
   "execution_count": 51,
   "metadata": {},
   "outputs": [
    {
     "data": {
      "text/html": [
       "<div>\n",
       "<style scoped>\n",
       "    .dataframe tbody tr th:only-of-type {\n",
       "        vertical-align: middle;\n",
       "    }\n",
       "\n",
       "    .dataframe tbody tr th {\n",
       "        vertical-align: top;\n",
       "    }\n",
       "\n",
       "    .dataframe thead th {\n",
       "        text-align: right;\n",
       "    }\n",
       "</style>\n",
       "<table border=\"1\" class=\"dataframe\">\n",
       "  <thead>\n",
       "    <tr style=\"text-align: right;\">\n",
       "      <th></th>\n",
       "      <th>Total Votes</th>\n",
       "      <th>Rank</th>\n",
       "      <th>Title</th>\n",
       "      <th>Year</th>\n",
       "      <th>Decade</th>\n",
       "    </tr>\n",
       "  </thead>\n",
       "  <tbody>\n",
       "    <tr>\n",
       "      <th>0</th>\n",
       "      <td>88355</td>\n",
       "      <td>8.4</td>\n",
       "      <td>M (1931)</td>\n",
       "      <td>1931</td>\n",
       "      <td>1930</td>\n",
       "    </tr>\n",
       "    <tr>\n",
       "      <th>1</th>\n",
       "      <td>132823</td>\n",
       "      <td>8.3</td>\n",
       "      <td>Singin' in the Rain (1952)</td>\n",
       "      <td>1952</td>\n",
       "      <td>1950</td>\n",
       "    </tr>\n",
       "    <tr>\n",
       "      <th>2</th>\n",
       "      <td>74178</td>\n",
       "      <td>8.3</td>\n",
       "      <td>All About Eve (1950)</td>\n",
       "      <td>1950</td>\n",
       "      <td>1950</td>\n",
       "    </tr>\n",
       "    <tr>\n",
       "      <th>3</th>\n",
       "      <td>635139</td>\n",
       "      <td>8.6</td>\n",
       "      <td>Léon (1994)</td>\n",
       "      <td>1994</td>\n",
       "      <td>1990</td>\n",
       "    </tr>\n",
       "    <tr>\n",
       "      <th>4</th>\n",
       "      <td>145514</td>\n",
       "      <td>8.2</td>\n",
       "      <td>The Elephant Man (1980)</td>\n",
       "      <td>1980</td>\n",
       "      <td>1980</td>\n",
       "    </tr>\n",
       "  </tbody>\n",
       "</table>\n",
       "</div>"
      ],
      "text/plain": [
       "   Total Votes  Rank                       Title  Year  Decade\n",
       "0        88355   8.4                    M (1931)  1931    1930\n",
       "1       132823   8.3  Singin' in the Rain (1952)  1952    1950\n",
       "2        74178   8.3        All About Eve (1950)  1950    1950\n",
       "3       635139   8.6                 Léon (1994)  1994    1990\n",
       "4       145514   8.2     The Elephant Man (1980)  1980    1980"
      ]
     },
     "execution_count": 51,
     "metadata": {},
     "output_type": "execute_result"
    }
   ],
   "source": [
    "new_df = df.rename(columns = {'Votes':'Total Votes'})\n",
    "new_df.head()"
   ]
  },
  {
   "cell_type": "markdown",
   "metadata": {},
   "source": [
    "5"
   ]
  },
  {
   "cell_type": "code",
   "execution_count": 52,
   "metadata": {},
   "outputs": [
    {
     "data": {
      "text/plain": [
       "['Votes', 'Rank', 'Title', 'Year', 'Decade']"
      ]
     },
     "execution_count": 52,
     "metadata": {},
     "output_type": "execute_result"
    }
   ],
   "source": [
    "df.columns.tolist()"
   ]
  },
  {
   "cell_type": "markdown",
   "metadata": {},
   "source": [
    "6"
   ]
  },
  {
   "cell_type": "code",
   "execution_count": 53,
   "metadata": {},
   "outputs": [
    {
     "data": {
      "text/plain": [
       "10"
      ]
     },
     "execution_count": 53,
     "metadata": {},
     "output_type": "execute_result"
    }
   ],
   "source": [
    "df[\"Year\"].value_counts()\n",
    "df[\"Year\"].value_counts()[1995]"
   ]
  },
  {
   "cell_type": "markdown",
   "metadata": {},
   "source": [
    "7"
   ]
  },
  {
   "cell_type": "code",
   "execution_count": 54,
   "metadata": {},
   "outputs": [],
   "source": [
    "new_df = df.reset_index(drop=True, inplace=False)"
   ]
  },
  {
   "cell_type": "markdown",
   "metadata": {},
   "source": [
    "8"
   ]
  },
  {
   "cell_type": "code",
   "execution_count": 55,
   "metadata": {},
   "outputs": [
    {
     "data": {
      "text/html": [
       "<div>\n",
       "<style scoped>\n",
       "    .dataframe tbody tr th:only-of-type {\n",
       "        vertical-align: middle;\n",
       "    }\n",
       "\n",
       "    .dataframe tbody tr th {\n",
       "        vertical-align: top;\n",
       "    }\n",
       "\n",
       "    .dataframe thead th {\n",
       "        text-align: right;\n",
       "    }\n",
       "</style>\n",
       "<table border=\"1\" class=\"dataframe\">\n",
       "  <thead>\n",
       "    <tr style=\"text-align: right;\">\n",
       "      <th></th>\n",
       "      <th>Votes</th>\n",
       "      <th>Rank</th>\n",
       "      <th>Title</th>\n",
       "      <th>Decade</th>\n",
       "    </tr>\n",
       "  </thead>\n",
       "  <tbody>\n",
       "    <tr>\n",
       "      <th>0</th>\n",
       "      <td>88355</td>\n",
       "      <td>8.4</td>\n",
       "      <td>M (1931)</td>\n",
       "      <td>1930</td>\n",
       "    </tr>\n",
       "    <tr>\n",
       "      <th>1</th>\n",
       "      <td>132823</td>\n",
       "      <td>8.3</td>\n",
       "      <td>Singin' in the Rain (1952)</td>\n",
       "      <td>1950</td>\n",
       "    </tr>\n",
       "    <tr>\n",
       "      <th>2</th>\n",
       "      <td>74178</td>\n",
       "      <td>8.3</td>\n",
       "      <td>All About Eve (1950)</td>\n",
       "      <td>1950</td>\n",
       "    </tr>\n",
       "    <tr>\n",
       "      <th>3</th>\n",
       "      <td>635139</td>\n",
       "      <td>8.6</td>\n",
       "      <td>Léon (1994)</td>\n",
       "      <td>1990</td>\n",
       "    </tr>\n",
       "    <tr>\n",
       "      <th>4</th>\n",
       "      <td>145514</td>\n",
       "      <td>8.2</td>\n",
       "      <td>The Elephant Man (1980)</td>\n",
       "      <td>1980</td>\n",
       "    </tr>\n",
       "  </tbody>\n",
       "</table>\n",
       "</div>"
      ],
      "text/plain": [
       "    Votes  Rank                       Title  Decade\n",
       "0   88355   8.4                    M (1931)    1930\n",
       "1  132823   8.3  Singin' in the Rain (1952)    1950\n",
       "2   74178   8.3        All About Eve (1950)    1950\n",
       "3  635139   8.6                 Léon (1994)    1990\n",
       "4  145514   8.2     The Elephant Man (1980)    1980"
      ]
     },
     "execution_count": 55,
     "metadata": {},
     "output_type": "execute_result"
    }
   ],
   "source": [
    "df.drop(columns=[\"Year\"]).head()"
   ]
  },
  {
   "cell_type": "markdown",
   "metadata": {},
   "source": [
    "9"
   ]
  },
  {
   "cell_type": "code",
   "execution_count": 56,
   "metadata": {},
   "outputs": [
    {
     "data": {
      "text/html": [
       "<div>\n",
       "<style scoped>\n",
       "    .dataframe tbody tr th:only-of-type {\n",
       "        vertical-align: middle;\n",
       "    }\n",
       "\n",
       "    .dataframe tbody tr th {\n",
       "        vertical-align: top;\n",
       "    }\n",
       "\n",
       "    .dataframe thead th {\n",
       "        text-align: right;\n",
       "    }\n",
       "</style>\n",
       "<table border=\"1\" class=\"dataframe\">\n",
       "  <thead>\n",
       "    <tr style=\"text-align: right;\">\n",
       "      <th></th>\n",
       "      <th>Votes</th>\n",
       "      <th>Rank</th>\n",
       "      <th>Title</th>\n",
       "      <th>Decade</th>\n",
       "    </tr>\n",
       "    <tr>\n",
       "      <th>Year</th>\n",
       "      <th></th>\n",
       "      <th></th>\n",
       "      <th></th>\n",
       "      <th></th>\n",
       "    </tr>\n",
       "  </thead>\n",
       "  <tbody>\n",
       "    <tr>\n",
       "      <th>1931</th>\n",
       "      <td>88355</td>\n",
       "      <td>8.4</td>\n",
       "      <td>M (1931)</td>\n",
       "      <td>1930</td>\n",
       "    </tr>\n",
       "    <tr>\n",
       "      <th>1952</th>\n",
       "      <td>132823</td>\n",
       "      <td>8.3</td>\n",
       "      <td>Singin' in the Rain (1952)</td>\n",
       "      <td>1950</td>\n",
       "    </tr>\n",
       "    <tr>\n",
       "      <th>1950</th>\n",
       "      <td>74178</td>\n",
       "      <td>8.3</td>\n",
       "      <td>All About Eve (1950)</td>\n",
       "      <td>1950</td>\n",
       "    </tr>\n",
       "    <tr>\n",
       "      <th>1994</th>\n",
       "      <td>635139</td>\n",
       "      <td>8.6</td>\n",
       "      <td>Léon (1994)</td>\n",
       "      <td>1990</td>\n",
       "    </tr>\n",
       "    <tr>\n",
       "      <th>1980</th>\n",
       "      <td>145514</td>\n",
       "      <td>8.2</td>\n",
       "      <td>The Elephant Man (1980)</td>\n",
       "      <td>1980</td>\n",
       "    </tr>\n",
       "  </tbody>\n",
       "</table>\n",
       "</div>"
      ],
      "text/plain": [
       "       Votes  Rank                       Title  Decade\n",
       "Year                                                  \n",
       "1931   88355   8.4                    M (1931)    1930\n",
       "1952  132823   8.3  Singin' in the Rain (1952)    1950\n",
       "1950   74178   8.3        All About Eve (1950)    1950\n",
       "1994  635139   8.6                 Léon (1994)    1990\n",
       "1980  145514   8.2     The Elephant Man (1980)    1980"
      ]
     },
     "execution_count": 56,
     "metadata": {},
     "output_type": "execute_result"
    }
   ],
   "source": [
    "new_df = df.set_index(\"Year\")\n",
    "new_df.head()"
   ]
  },
  {
   "cell_type": "markdown",
   "metadata": {},
   "source": [
    "10"
   ]
  },
  {
   "cell_type": "code",
   "execution_count": 57,
   "metadata": {},
   "outputs": [],
   "source": [
    "df.dropna(axis=0, inplace=True)"
   ]
  },
  {
   "cell_type": "markdown",
   "metadata": {},
   "source": [
    "11"
   ]
  },
  {
   "cell_type": "code",
   "execution_count": 58,
   "metadata": {},
   "outputs": [
    {
     "data": {
      "text/html": [
       "<div>\n",
       "<style scoped>\n",
       "    .dataframe tbody tr th:only-of-type {\n",
       "        vertical-align: middle;\n",
       "    }\n",
       "\n",
       "    .dataframe tbody tr th {\n",
       "        vertical-align: top;\n",
       "    }\n",
       "\n",
       "    .dataframe thead th {\n",
       "        text-align: right;\n",
       "    }\n",
       "</style>\n",
       "<table border=\"1\" class=\"dataframe\">\n",
       "  <thead>\n",
       "    <tr style=\"text-align: right;\">\n",
       "      <th></th>\n",
       "      <th>Votes</th>\n",
       "      <th>Rank</th>\n",
       "      <th>Title</th>\n",
       "      <th>Year</th>\n",
       "      <th>Decade</th>\n",
       "    </tr>\n",
       "  </thead>\n",
       "  <tbody>\n",
       "    <tr>\n",
       "      <th>3</th>\n",
       "      <td>635139</td>\n",
       "      <td>8.6</td>\n",
       "      <td>Léon (1994)</td>\n",
       "      <td>1994</td>\n",
       "      <td>1990</td>\n",
       "    </tr>\n",
       "    <tr>\n",
       "      <th>4</th>\n",
       "      <td>145514</td>\n",
       "      <td>8.2</td>\n",
       "      <td>The Elephant Man (1980)</td>\n",
       "      <td>1980</td>\n",
       "      <td>1980</td>\n",
       "    </tr>\n",
       "    <tr>\n",
       "      <th>5</th>\n",
       "      <td>425461</td>\n",
       "      <td>8.3</td>\n",
       "      <td>Full Metal Jacket (1987)</td>\n",
       "      <td>1987</td>\n",
       "      <td>1980</td>\n",
       "    </tr>\n",
       "    <tr>\n",
       "      <th>6</th>\n",
       "      <td>441174</td>\n",
       "      <td>8.1</td>\n",
       "      <td>Gone Girl (2014)</td>\n",
       "      <td>2014</td>\n",
       "      <td>2010</td>\n",
       "    </tr>\n",
       "    <tr>\n",
       "      <th>7</th>\n",
       "      <td>850601</td>\n",
       "      <td>8.3</td>\n",
       "      <td>Batman Begins (2005)</td>\n",
       "      <td>2005</td>\n",
       "      <td>2000</td>\n",
       "    </tr>\n",
       "    <tr>\n",
       "      <th>...</th>\n",
       "      <td>...</td>\n",
       "      <td>...</td>\n",
       "      <td>...</td>\n",
       "      <td>...</td>\n",
       "      <td>...</td>\n",
       "    </tr>\n",
       "    <tr>\n",
       "      <th>242</th>\n",
       "      <td>476501</td>\n",
       "      <td>8.6</td>\n",
       "      <td>Cidade de Deus (2002)</td>\n",
       "      <td>2002</td>\n",
       "      <td>2000</td>\n",
       "    </tr>\n",
       "    <tr>\n",
       "      <th>245</th>\n",
       "      <td>1078416</td>\n",
       "      <td>8.7</td>\n",
       "      <td>Forrest Gump (1994)</td>\n",
       "      <td>1994</td>\n",
       "      <td>1990</td>\n",
       "    </tr>\n",
       "    <tr>\n",
       "      <th>247</th>\n",
       "      <td>167076</td>\n",
       "      <td>8.2</td>\n",
       "      <td>3 Idiots (2009)</td>\n",
       "      <td>2009</td>\n",
       "      <td>2000</td>\n",
       "    </tr>\n",
       "    <tr>\n",
       "      <th>248</th>\n",
       "      <td>91689</td>\n",
       "      <td>8.1</td>\n",
       "      <td>Network (1976)</td>\n",
       "      <td>1976</td>\n",
       "      <td>1970</td>\n",
       "    </tr>\n",
       "    <tr>\n",
       "      <th>249</th>\n",
       "      <td>589477</td>\n",
       "      <td>8.3</td>\n",
       "      <td>Eternal Sunshine of the Spotless Mind (2004)</td>\n",
       "      <td>2004</td>\n",
       "      <td>2000</td>\n",
       "    </tr>\n",
       "  </tbody>\n",
       "</table>\n",
       "<p>137 rows × 5 columns</p>\n",
       "</div>"
      ],
      "text/plain": [
       "       Votes  Rank                                         Title  Year  Decade\n",
       "3     635139   8.6                                   Léon (1994)  1994    1990\n",
       "4     145514   8.2                       The Elephant Man (1980)  1980    1980\n",
       "5     425461   8.3                      Full Metal Jacket (1987)  1987    1980\n",
       "6     441174   8.1                              Gone Girl (2014)  2014    2010\n",
       "7     850601   8.3                          Batman Begins (2005)  2005    2000\n",
       "..       ...   ...                                           ...   ...     ...\n",
       "242   476501   8.6                         Cidade de Deus (2002)  2002    2000\n",
       "245  1078416   8.7                           Forrest Gump (1994)  1994    1990\n",
       "247   167076   8.2                               3 Idiots (2009)  2009    2000\n",
       "248    91689   8.1                                Network (1976)  1976    1970\n",
       "249   589477   8.3  Eternal Sunshine of the Spotless Mind (2004)  2004    2000\n",
       "\n",
       "[137 rows x 5 columns]"
      ]
     },
     "execution_count": 58,
     "metadata": {},
     "output_type": "execute_result"
    }
   ],
   "source": [
    "mask = df['Year'] > 1970\n",
    "\n",
    "result = df[mask]\n",
    "\n",
    "result\n",
    "\n",
    "mask = (df['Year'] > 1970) & (df['Rank'] > 8)\n",
    "\n",
    "result2 = df[mask]\n",
    "\n",
    "result2"
   ]
  },
  {
   "cell_type": "markdown",
   "metadata": {},
   "source": [
    "12"
   ]
  },
  {
   "cell_type": "code",
   "execution_count": 59,
   "metadata": {},
   "outputs": [
    {
     "data": {
      "text/html": [
       "<div>\n",
       "<style scoped>\n",
       "    .dataframe tbody tr th:only-of-type {\n",
       "        vertical-align: middle;\n",
       "    }\n",
       "\n",
       "    .dataframe tbody tr th {\n",
       "        vertical-align: top;\n",
       "    }\n",
       "\n",
       "    .dataframe thead th {\n",
       "        text-align: right;\n",
       "    }\n",
       "</style>\n",
       "<table border=\"1\" class=\"dataframe\">\n",
       "  <thead>\n",
       "    <tr style=\"text-align: right;\">\n",
       "      <th></th>\n",
       "      <th>Year</th>\n",
       "      <th>Decade</th>\n",
       "    </tr>\n",
       "  </thead>\n",
       "  <tbody>\n",
       "    <tr>\n",
       "      <th>0</th>\n",
       "      <td>1931</td>\n",
       "      <td>1930</td>\n",
       "    </tr>\n",
       "    <tr>\n",
       "      <th>2</th>\n",
       "      <td>1950</td>\n",
       "      <td>1950</td>\n",
       "    </tr>\n",
       "  </tbody>\n",
       "</table>\n",
       "</div>"
      ],
      "text/plain": [
       "   Year  Decade\n",
       "0  1931    1930\n",
       "2  1950    1950"
      ]
     },
     "execution_count": 59,
     "metadata": {},
     "output_type": "execute_result"
    }
   ],
   "source": [
    "df.iat[1,2]\n",
    "df.at[0, \"Year\"]\n",
    "df.loc[np.arange(0,5), ['Rank', 'Year']]\n",
    "df.iloc[[0,2], [3,4]]"
   ]
  },
  {
   "cell_type": "markdown",
   "metadata": {},
   "source": [
    "13"
   ]
  },
  {
   "cell_type": "code",
   "execution_count": 60,
   "metadata": {},
   "outputs": [
    {
     "name": "stdout",
     "output_type": "stream",
     "text": [
      "1931\n",
      "1952\n",
      "1950\n",
      "1994\n",
      "1980\n",
      "1987\n",
      "2014\n",
      "2005\n",
      "1961\n",
      "2014\n",
      "1934\n",
      "2008\n",
      "1959\n",
      "2009\n",
      "1987\n",
      "1997\n",
      "1998\n",
      "1939\n",
      "1969\n",
      "2006\n",
      "1993\n",
      "1940\n",
      "1972\n",
      "2003\n",
      "2005\n",
      "2009\n",
      "2011\n",
      "2011\n",
      "1966\n",
      "1973\n",
      "2010\n",
      "1975\n",
      "1995\n",
      "1968\n",
      "2013\n",
      "1956\n",
      "1973\n",
      "1962\n",
      "1980\n",
      "1967\n",
      "2001\n",
      "2015\n",
      "1964\n",
      "1984\n",
      "2000\n",
      "2007\n",
      "2014\n",
      "1991\n",
      "2000\n",
      "1927\n",
      "1944\n",
      "1953\n",
      "2012\n",
      "1994\n",
      "2009\n",
      "1979\n",
      "2014\n",
      "1966\n",
      "1984\n",
      "1963\n",
      "1982\n",
      "2010\n",
      "1958\n",
      "1979\n",
      "2010\n",
      "1950\n",
      "1995\n",
      "1960\n",
      "2002\n",
      "2000\n",
      "2014\n",
      "1975\n",
      "1941\n",
      "1982\n",
      "1979\n",
      "1948\n",
      "2008\n",
      "1954\n",
      "1968\n",
      "1995\n",
      "2007\n",
      "2010\n",
      "1959\n",
      "2004\n",
      "1983\n",
      "1991\n",
      "1950\n",
      "1999\n",
      "1985\n",
      "2004\n",
      "2006\n",
      "1974\n",
      "1962\n",
      "2014\n",
      "1997\n",
      "1986\n",
      "1995\n",
      "1991\n",
      "1954\n",
      "2001\n",
      "2014\n",
      "1939\n",
      "1946\n",
      "1990\n",
      "1999\n",
      "1957\n",
      "2010\n",
      "1988\n",
      "2011\n",
      "1985\n",
      "2000\n",
      "2003\n",
      "2002\n",
      "2012\n",
      "1982\n",
      "1999\n",
      "1995\n",
      "2003\n",
      "1948\n",
      "1955\n",
      "1946\n",
      "1976\n",
      "2008\n",
      "1993\n",
      "1988\n",
      "1957\n",
      "1995\n",
      "1984\n",
      "1966\n",
      "1999\n",
      "1992\n",
      "2011\n",
      "1982\n",
      "1998\n",
      "1994\n",
      "1959\n",
      "1977\n",
      "1966\n",
      "1992\n",
      "1995\n",
      "1983\n",
      "2003\n",
      "2013\n",
      "1988\n",
      "2001\n",
      "1962\n",
      "1926\n",
      "1993\n",
      "2014\n",
      "1999\n",
      "2005\n",
      "1986\n",
      "2001\n",
      "1965\n",
      "1993\n",
      "1998\n",
      "1980\n",
      "1971\n",
      "1942\n",
      "1996\n",
      "1957\n",
      "1997\n",
      "1988\n",
      "1996\n",
      "2007\n",
      "1954\n",
      "1946\n",
      "1940\n",
      "2001\n",
      "1995\n",
      "1995\n",
      "1952\n",
      "2004\n",
      "1921\n",
      "2012\n",
      "2006\n",
      "1964\n",
      "1954\n",
      "2001\n",
      "2001\n",
      "1995\n",
      "1986\n",
      "1967\n",
      "2009\n",
      "2002\n",
      "1959\n",
      "1957\n",
      "1978\n",
      "1939\n",
      "1977\n",
      "2004\n",
      "2010\n",
      "1952\n",
      "2013\n",
      "1961\n",
      "1958\n",
      "1975\n",
      "2006\n",
      "2013\n",
      "2007\n",
      "1980\n",
      "1998\n",
      "1994\n",
      "1989\n",
      "1997\n",
      "1925\n",
      "1998\n",
      "2003\n",
      "1957\n",
      "2000\n",
      "2011\n",
      "2012\n",
      "1936\n",
      "1946\n",
      "1961\n",
      "1949\n",
      "1931\n",
      "1954\n",
      "1975\n",
      "1960\n",
      "1988\n",
      "1976\n",
      "1984\n",
      "1975\n",
      "1994\n",
      "1984\n",
      "1979\n",
      "2003\n",
      "1986\n",
      "1974\n",
      "2008\n",
      "1981\n",
      "2009\n",
      "2015\n",
      "2003\n",
      "1957\n",
      "1981\n",
      "1955\n",
      "1957\n",
      "2004\n",
      "1940\n",
      "1951\n",
      "2002\n",
      "1941\n",
      "1963\n",
      "1994\n",
      "1953\n",
      "2009\n",
      "1976\n",
      "2004\n"
     ]
    }
   ],
   "source": [
    "sum_ranks = 0\n",
    "for i, row in df.iterrows():\n",
    "    sum_ranks+=row['Rank']\n",
    "sum_ranks\n",
    "\n",
    "for row in df.itertuples():\n",
    "    print(row.Year)"
   ]
  },
  {
   "cell_type": "markdown",
   "metadata": {},
   "source": [
    "14"
   ]
  },
  {
   "cell_type": "code",
   "execution_count": 61,
   "metadata": {},
   "outputs": [
    {
     "data": {
      "text/html": [
       "<div>\n",
       "<style scoped>\n",
       "    .dataframe tbody tr th:only-of-type {\n",
       "        vertical-align: middle;\n",
       "    }\n",
       "\n",
       "    .dataframe tbody tr th {\n",
       "        vertical-align: top;\n",
       "    }\n",
       "\n",
       "    .dataframe thead th {\n",
       "        text-align: right;\n",
       "    }\n",
       "</style>\n",
       "<table border=\"1\" class=\"dataframe\">\n",
       "  <thead>\n",
       "    <tr style=\"text-align: right;\">\n",
       "      <th></th>\n",
       "      <th>Votes</th>\n",
       "      <th>Rank</th>\n",
       "      <th>Title</th>\n",
       "      <th>Year</th>\n",
       "      <th>Decade</th>\n",
       "    </tr>\n",
       "  </thead>\n",
       "  <tbody>\n",
       "    <tr>\n",
       "      <th>173</th>\n",
       "      <td>55784</td>\n",
       "      <td>8.3</td>\n",
       "      <td>The Kid (1921)</td>\n",
       "      <td>1921</td>\n",
       "      <td>1920</td>\n",
       "    </tr>\n",
       "    <tr>\n",
       "      <th>205</th>\n",
       "      <td>58506</td>\n",
       "      <td>8.2</td>\n",
       "      <td>The Gold Rush (1925)</td>\n",
       "      <td>1925</td>\n",
       "      <td>1920</td>\n",
       "    </tr>\n",
       "    <tr>\n",
       "      <th>146</th>\n",
       "      <td>46332</td>\n",
       "      <td>8.2</td>\n",
       "      <td>The General (1926)</td>\n",
       "      <td>1926</td>\n",
       "      <td>1920</td>\n",
       "    </tr>\n",
       "    <tr>\n",
       "      <th>49</th>\n",
       "      <td>98794</td>\n",
       "      <td>8.3</td>\n",
       "      <td>Metropolis (1927)</td>\n",
       "      <td>1927</td>\n",
       "      <td>1920</td>\n",
       "    </tr>\n",
       "    <tr>\n",
       "      <th>0</th>\n",
       "      <td>88355</td>\n",
       "      <td>8.4</td>\n",
       "      <td>M (1931)</td>\n",
       "      <td>1931</td>\n",
       "      <td>1930</td>\n",
       "    </tr>\n",
       "    <tr>\n",
       "      <th>...</th>\n",
       "      <td>...</td>\n",
       "      <td>...</td>\n",
       "      <td>...</td>\n",
       "      <td>...</td>\n",
       "      <td>...</td>\n",
       "    </tr>\n",
       "    <tr>\n",
       "      <th>100</th>\n",
       "      <td>369141</td>\n",
       "      <td>8.1</td>\n",
       "      <td>The Grand Budapest Hotel (2014)</td>\n",
       "      <td>2014</td>\n",
       "      <td>2010</td>\n",
       "    </tr>\n",
       "    <tr>\n",
       "      <th>148</th>\n",
       "      <td>264333</td>\n",
       "      <td>8.5</td>\n",
       "      <td>Whiplash (2014)</td>\n",
       "      <td>2014</td>\n",
       "      <td>2010</td>\n",
       "    </tr>\n",
       "    <tr>\n",
       "      <th>70</th>\n",
       "      <td>689541</td>\n",
       "      <td>8.6</td>\n",
       "      <td>Interstellar (2014)</td>\n",
       "      <td>2014</td>\n",
       "      <td>2010</td>\n",
       "    </tr>\n",
       "    <tr>\n",
       "      <th>233</th>\n",
       "      <td>262425</td>\n",
       "      <td>8.3</td>\n",
       "      <td>Mad Max: Fury Road (2015)</td>\n",
       "      <td>2015</td>\n",
       "      <td>2010</td>\n",
       "    </tr>\n",
       "    <tr>\n",
       "      <th>41</th>\n",
       "      <td>79615</td>\n",
       "      <td>8.5</td>\n",
       "      <td>Inside Out (2015/I)</td>\n",
       "      <td>2015</td>\n",
       "      <td>2010</td>\n",
       "    </tr>\n",
       "  </tbody>\n",
       "</table>\n",
       "<p>250 rows × 5 columns</p>\n",
       "</div>"
      ],
      "text/plain": [
       "      Votes  Rank                            Title  Year  Decade\n",
       "173   55784   8.3                   The Kid (1921)  1921    1920\n",
       "205   58506   8.2             The Gold Rush (1925)  1925    1920\n",
       "146   46332   8.2               The General (1926)  1926    1920\n",
       "49    98794   8.3                Metropolis (1927)  1927    1920\n",
       "0     88355   8.4                         M (1931)  1931    1930\n",
       "..      ...   ...                              ...   ...     ...\n",
       "100  369141   8.1  The Grand Budapest Hotel (2014)  2014    2010\n",
       "148  264333   8.5                  Whiplash (2014)  2014    2010\n",
       "70   689541   8.6              Interstellar (2014)  2014    2010\n",
       "233  262425   8.3        Mad Max: Fury Road (2015)  2015    2010\n",
       "41    79615   8.5              Inside Out (2015/I)  2015    2010\n",
       "\n",
       "[250 rows x 5 columns]"
      ]
     },
     "execution_count": 61,
     "metadata": {},
     "output_type": "execute_result"
    }
   ],
   "source": [
    "df.sort_values(by = [\"Year\", \"Rank\"], ascending = True)"
   ]
  },
  {
   "cell_type": "markdown",
   "metadata": {},
   "source": [
    "15"
   ]
  },
  {
   "cell_type": "code",
   "execution_count": 62,
   "metadata": {},
   "outputs": [
    {
     "data": {
      "text/html": [
       "<div>\n",
       "<style scoped>\n",
       "    .dataframe tbody tr th:only-of-type {\n",
       "        vertical-align: middle;\n",
       "    }\n",
       "\n",
       "    .dataframe tbody tr th {\n",
       "        vertical-align: top;\n",
       "    }\n",
       "\n",
       "    .dataframe thead th {\n",
       "        text-align: right;\n",
       "    }\n",
       "</style>\n",
       "<table border=\"1\" class=\"dataframe\">\n",
       "  <thead>\n",
       "    <tr style=\"text-align: right;\">\n",
       "      <th></th>\n",
       "      <th>Year</th>\n",
       "      <th>Rank</th>\n",
       "    </tr>\n",
       "  </thead>\n",
       "  <tbody>\n",
       "    <tr>\n",
       "      <th>0</th>\n",
       "      <td>1930</td>\n",
       "      <td>7.4</td>\n",
       "    </tr>\n",
       "    <tr>\n",
       "      <th>1</th>\n",
       "      <td>1951</td>\n",
       "      <td>7.3</td>\n",
       "    </tr>\n",
       "    <tr>\n",
       "      <th>2</th>\n",
       "      <td>1949</td>\n",
       "      <td>7.3</td>\n",
       "    </tr>\n",
       "    <tr>\n",
       "      <th>3</th>\n",
       "      <td>1993</td>\n",
       "      <td>7.6</td>\n",
       "    </tr>\n",
       "    <tr>\n",
       "      <th>4</th>\n",
       "      <td>1979</td>\n",
       "      <td>7.2</td>\n",
       "    </tr>\n",
       "    <tr>\n",
       "      <th>...</th>\n",
       "      <td>...</td>\n",
       "      <td>...</td>\n",
       "    </tr>\n",
       "    <tr>\n",
       "      <th>245</th>\n",
       "      <td>1993</td>\n",
       "      <td>7.7</td>\n",
       "    </tr>\n",
       "    <tr>\n",
       "      <th>246</th>\n",
       "      <td>1952</td>\n",
       "      <td>7.1</td>\n",
       "    </tr>\n",
       "    <tr>\n",
       "      <th>247</th>\n",
       "      <td>2008</td>\n",
       "      <td>7.2</td>\n",
       "    </tr>\n",
       "    <tr>\n",
       "      <th>248</th>\n",
       "      <td>1975</td>\n",
       "      <td>7.1</td>\n",
       "    </tr>\n",
       "    <tr>\n",
       "      <th>249</th>\n",
       "      <td>2003</td>\n",
       "      <td>7.3</td>\n",
       "    </tr>\n",
       "  </tbody>\n",
       "</table>\n",
       "<p>250 rows × 2 columns</p>\n",
       "</div>"
      ],
      "text/plain": [
       "     Year  Rank\n",
       "0    1930   7.4\n",
       "1    1951   7.3\n",
       "2    1949   7.3\n",
       "3    1993   7.6\n",
       "4    1979   7.2\n",
       "..    ...   ...\n",
       "245  1993   7.7\n",
       "246  1952   7.1\n",
       "247  2008   7.2\n",
       "248  1975   7.1\n",
       "249  2003   7.3\n",
       "\n",
       "[250 rows x 2 columns]"
      ]
     },
     "execution_count": 62,
     "metadata": {},
     "output_type": "execute_result"
    }
   ],
   "source": [
    "def minus_1(x):\n",
    "    return x - 1\n",
    "df[\"Year\"].apply(minus_1)\n",
    "\n",
    "df[[\"Year\", \"Rank\"]].apply(minus_1)"
   ]
  },
  {
   "cell_type": "markdown",
   "metadata": {},
   "source": [
    "16"
   ]
  },
  {
   "cell_type": "code",
   "execution_count": 63,
   "metadata": {},
   "outputs": [
    {
     "data": {
      "text/html": [
       "<div>\n",
       "<style scoped>\n",
       "    .dataframe tbody tr th:only-of-type {\n",
       "        vertical-align: middle;\n",
       "    }\n",
       "\n",
       "    .dataframe tbody tr th {\n",
       "        vertical-align: top;\n",
       "    }\n",
       "\n",
       "    .dataframe thead th {\n",
       "        text-align: right;\n",
       "    }\n",
       "</style>\n",
       "<table border=\"1\" class=\"dataframe\">\n",
       "  <thead>\n",
       "    <tr style=\"text-align: right;\">\n",
       "      <th></th>\n",
       "      <th>Votes</th>\n",
       "      <th>Rank</th>\n",
       "      <th>Title</th>\n",
       "      <th>Year</th>\n",
       "      <th>Decade</th>\n",
       "    </tr>\n",
       "  </thead>\n",
       "  <tbody>\n",
       "    <tr>\n",
       "      <th>0</th>\n",
       "      <td>&lt;class 'int'&gt;</td>\n",
       "      <td>&lt;class 'float'&gt;</td>\n",
       "      <td>&lt;class 'str'&gt;</td>\n",
       "      <td>&lt;class 'int'&gt;</td>\n",
       "      <td>&lt;class 'int'&gt;</td>\n",
       "    </tr>\n",
       "    <tr>\n",
       "      <th>1</th>\n",
       "      <td>&lt;class 'int'&gt;</td>\n",
       "      <td>&lt;class 'float'&gt;</td>\n",
       "      <td>&lt;class 'str'&gt;</td>\n",
       "      <td>&lt;class 'int'&gt;</td>\n",
       "      <td>&lt;class 'int'&gt;</td>\n",
       "    </tr>\n",
       "    <tr>\n",
       "      <th>2</th>\n",
       "      <td>&lt;class 'int'&gt;</td>\n",
       "      <td>&lt;class 'float'&gt;</td>\n",
       "      <td>&lt;class 'str'&gt;</td>\n",
       "      <td>&lt;class 'int'&gt;</td>\n",
       "      <td>&lt;class 'int'&gt;</td>\n",
       "    </tr>\n",
       "    <tr>\n",
       "      <th>3</th>\n",
       "      <td>&lt;class 'int'&gt;</td>\n",
       "      <td>&lt;class 'float'&gt;</td>\n",
       "      <td>&lt;class 'str'&gt;</td>\n",
       "      <td>&lt;class 'int'&gt;</td>\n",
       "      <td>&lt;class 'int'&gt;</td>\n",
       "    </tr>\n",
       "    <tr>\n",
       "      <th>4</th>\n",
       "      <td>&lt;class 'int'&gt;</td>\n",
       "      <td>&lt;class 'float'&gt;</td>\n",
       "      <td>&lt;class 'str'&gt;</td>\n",
       "      <td>&lt;class 'int'&gt;</td>\n",
       "      <td>&lt;class 'int'&gt;</td>\n",
       "    </tr>\n",
       "  </tbody>\n",
       "</table>\n",
       "</div>"
      ],
      "text/plain": [
       "           Votes             Rank          Title           Year         Decade\n",
       "0  <class 'int'>  <class 'float'>  <class 'str'>  <class 'int'>  <class 'int'>\n",
       "1  <class 'int'>  <class 'float'>  <class 'str'>  <class 'int'>  <class 'int'>\n",
       "2  <class 'int'>  <class 'float'>  <class 'str'>  <class 'int'>  <class 'int'>\n",
       "3  <class 'int'>  <class 'float'>  <class 'str'>  <class 'int'>  <class 'int'>\n",
       "4  <class 'int'>  <class 'float'>  <class 'str'>  <class 'int'>  <class 'int'>"
      ]
     },
     "execution_count": 63,
     "metadata": {},
     "output_type": "execute_result"
    }
   ],
   "source": [
    "def f(x):\n",
    "    return type(x) \n",
    "\n",
    "new_df = df.applymap(f)\n",
    "\n",
    "new_df.head()"
   ]
  },
  {
   "cell_type": "markdown",
   "metadata": {},
   "source": [
    "17"
   ]
  },
  {
   "cell_type": "code",
   "execution_count": 64,
   "metadata": {},
   "outputs": [
    {
     "data": {
      "text/html": [
       "<div>\n",
       "<style scoped>\n",
       "    .dataframe tbody tr th:only-of-type {\n",
       "        vertical-align: middle;\n",
       "    }\n",
       "\n",
       "    .dataframe tbody tr th {\n",
       "        vertical-align: top;\n",
       "    }\n",
       "\n",
       "    .dataframe thead th {\n",
       "        text-align: right;\n",
       "    }\n",
       "</style>\n",
       "<table border=\"1\" class=\"dataframe\">\n",
       "  <thead>\n",
       "    <tr style=\"text-align: right;\">\n",
       "      <th></th>\n",
       "      <th>Votes</th>\n",
       "      <th>Rank</th>\n",
       "      <th>Title</th>\n",
       "      <th>Year</th>\n",
       "      <th>Decade</th>\n",
       "    </tr>\n",
       "  </thead>\n",
       "  <tbody>\n",
       "    <tr>\n",
       "      <th>0</th>\n",
       "      <td>88355</td>\n",
       "      <td>8.4</td>\n",
       "      <td>M (1931)</td>\n",
       "      <td>1931</td>\n",
       "      <td>1930</td>\n",
       "    </tr>\n",
       "    <tr>\n",
       "      <th>1</th>\n",
       "      <td>132823</td>\n",
       "      <td>8.3</td>\n",
       "      <td>Singin' in the Rain (1952)</td>\n",
       "      <td>1952</td>\n",
       "      <td>1950</td>\n",
       "    </tr>\n",
       "    <tr>\n",
       "      <th>2</th>\n",
       "      <td>74178</td>\n",
       "      <td>8.3</td>\n",
       "      <td>All About Eve (1950)</td>\n",
       "      <td>1950</td>\n",
       "      <td>1950</td>\n",
       "    </tr>\n",
       "    <tr>\n",
       "      <th>3</th>\n",
       "      <td>635139</td>\n",
       "      <td>8.6</td>\n",
       "      <td>Léon (1994)</td>\n",
       "      <td>1994</td>\n",
       "      <td>1990</td>\n",
       "    </tr>\n",
       "    <tr>\n",
       "      <th>4</th>\n",
       "      <td>145514</td>\n",
       "      <td>8.2</td>\n",
       "      <td>The Elephant Man (1980)</td>\n",
       "      <td>1980</td>\n",
       "      <td>1980</td>\n",
       "    </tr>\n",
       "    <tr>\n",
       "      <th>...</th>\n",
       "      <td>...</td>\n",
       "      <td>...</td>\n",
       "      <td>...</td>\n",
       "      <td>...</td>\n",
       "      <td>...</td>\n",
       "    </tr>\n",
       "    <tr>\n",
       "      <th>245</th>\n",
       "      <td>1078416</td>\n",
       "      <td>8.7</td>\n",
       "      <td>Forrest Gump (1994)</td>\n",
       "      <td>1994</td>\n",
       "      <td>1990</td>\n",
       "    </tr>\n",
       "    <tr>\n",
       "      <th>246</th>\n",
       "      <td>31003</td>\n",
       "      <td>8.1</td>\n",
       "      <td>Le salaire de la peur (1953)</td>\n",
       "      <td>1953</td>\n",
       "      <td>1950</td>\n",
       "    </tr>\n",
       "    <tr>\n",
       "      <th>247</th>\n",
       "      <td>167076</td>\n",
       "      <td>8.2</td>\n",
       "      <td>3 Idiots (2009)</td>\n",
       "      <td>2009</td>\n",
       "      <td>2000</td>\n",
       "    </tr>\n",
       "    <tr>\n",
       "      <th>248</th>\n",
       "      <td>91689</td>\n",
       "      <td>8.1</td>\n",
       "      <td>Network (1976)</td>\n",
       "      <td>1976</td>\n",
       "      <td>1970</td>\n",
       "    </tr>\n",
       "    <tr>\n",
       "      <th>249</th>\n",
       "      <td>589477</td>\n",
       "      <td>8.3</td>\n",
       "      <td>Eternal Sunshine of the Spotless Mind (2004)</td>\n",
       "      <td>2004</td>\n",
       "      <td>2000</td>\n",
       "    </tr>\n",
       "  </tbody>\n",
       "</table>\n",
       "<p>248 rows × 5 columns</p>\n",
       "</div>"
      ],
      "text/plain": [
       "       Votes  Rank                                         Title  Year  Decade\n",
       "0      88355   8.4                                      M (1931)  1931    1930\n",
       "1     132823   8.3                    Singin' in the Rain (1952)  1952    1950\n",
       "2      74178   8.3                          All About Eve (1950)  1950    1950\n",
       "3     635139   8.6                                   Léon (1994)  1994    1990\n",
       "4     145514   8.2                       The Elephant Man (1980)  1980    1980\n",
       "..       ...   ...                                           ...   ...     ...\n",
       "245  1078416   8.7                           Forrest Gump (1994)  1994    1990\n",
       "246    31003   8.1                  Le salaire de la peur (1953)  1953    1950\n",
       "247   167076   8.2                               3 Idiots (2009)  2009    2000\n",
       "248    91689   8.1                                Network (1976)  1976    1970\n",
       "249   589477   8.3  Eternal Sunshine of the Spotless Mind (2004)  2004    2000\n",
       "\n",
       "[248 rows x 5 columns]"
      ]
     },
     "execution_count": 64,
     "metadata": {},
     "output_type": "execute_result"
    }
   ],
   "source": [
    "df[df[\"Year\"].isin([1970,1971,1972])]\n",
    "df[~df[\"Year\"].isin([1970,1971,1972])]"
   ]
  },
  {
   "cell_type": "markdown",
   "metadata": {},
   "source": [
    "18"
   ]
  },
  {
   "cell_type": "code",
   "execution_count": 65,
   "metadata": {
    "scrolled": false
   },
   "outputs": [
    {
     "data": {
      "text/html": [
       "<div>\n",
       "<style scoped>\n",
       "    .dataframe tbody tr th:only-of-type {\n",
       "        vertical-align: middle;\n",
       "    }\n",
       "\n",
       "    .dataframe tbody tr th {\n",
       "        vertical-align: top;\n",
       "    }\n",
       "\n",
       "    .dataframe thead th {\n",
       "        text-align: right;\n",
       "    }\n",
       "</style>\n",
       "<table border=\"1\" class=\"dataframe\">\n",
       "  <thead>\n",
       "    <tr style=\"text-align: right;\">\n",
       "      <th></th>\n",
       "      <th>Votes</th>\n",
       "      <th>Rank</th>\n",
       "      <th>Title</th>\n",
       "      <th>Year</th>\n",
       "    </tr>\n",
       "    <tr>\n",
       "      <th>Decade</th>\n",
       "      <th></th>\n",
       "      <th></th>\n",
       "      <th></th>\n",
       "      <th></th>\n",
       "    </tr>\n",
       "  </thead>\n",
       "  <tbody>\n",
       "    <tr>\n",
       "      <th>1920</th>\n",
       "      <td>[98794, 46332, 55784, 58506]</td>\n",
       "      <td>[8.3, 8.2, 8.3, 8.2]</td>\n",
       "      <td>[Metropolis (1927), The General (1926), The Ki...</td>\n",
       "      <td>[1927, 1926, 1921, 1925]</td>\n",
       "    </tr>\n",
       "    <tr>\n",
       "      <th>1930</th>\n",
       "      <td>[88355, 56842, 69510, 259235, 192791, 121668, ...</td>\n",
       "      <td>[8.4, 8.1, 8.2, 8.1, 8.1, 8.5, 8.5]</td>\n",
       "      <td>[M (1931), It Happened One Night (1934), Mr. S...</td>\n",
       "      <td>[1931, 1934, 1939, 1939, 1939, 1936, 1931]</td>\n",
       "    </tr>\n",
       "    <tr>\n",
       "      <th>1940</th>\n",
       "      <td>[55793, 86715, 101754, 71003, 35983, 81887, 66...</td>\n",
       "      <td>[8.1, 8.3, 8.1, 8.3, 8.1, 8.3, 8.0, 8.5, 8.0, ...</td>\n",
       "      <td>[The Grapes of Wrath (1940), Double Indemnity ...</td>\n",
       "      <td>[1940, 1944, 1941, 1948, 1946, 1948, 1946, 194...</td>\n",
       "    </tr>\n",
       "    <tr>\n",
       "      <th>1950</th>\n",
       "      <td>[132823, 74178, 156432, 56671, 87437, 65408, 9...</td>\n",
       "      <td>[8.3, 8.3, 8.3, 8.0, 8.0, 8.1, 8.3, 8.0, 8.4, ...</td>\n",
       "      <td>[Singin' in the Rain (1952), All About Eve (19...</td>\n",
       "      <td>[1952, 1950, 1959, 1956, 1953, 1958, 1950, 195...</td>\n",
       "    </tr>\n",
       "    <tr>\n",
       "      <th>1960</th>\n",
       "      <td>[37664, 134552, 32385, 373482, 170302, 108128,...</td>\n",
       "      <td>[8.2, 8.1, 8.0, 8.3, 8.3, 8.1, 8.5, 8.9, 8.2, ...</td>\n",
       "      <td>[Judgment at Nuremberg (1961), Butch Cassidy a...</td>\n",
       "      <td>[1961, 1969, 1966, 1968, 1962, 1967, 1964, 196...</td>\n",
       "    </tr>\n",
       "    <tr>\n",
       "      <th>1970</th>\n",
       "      <td>[1027398, 155691, 364225, 87591, 496833, 24288...</td>\n",
       "      <td>[9.2, 8.3, 8.0, 8.0, 8.5, 8.1, 8.0, 8.5, 9.0, ...</td>\n",
       "      <td>[The Godfather (1972), The Sting (1973), Jaws ...</td>\n",
       "      <td>[1972, 1973, 1975, 1973, 1979, 1979, 1975, 197...</td>\n",
       "    </tr>\n",
       "    <tr>\n",
       "      <th>1980</th>\n",
       "      <td>[145514, 425461, 264285, 532559, 43090, 195266...</td>\n",
       "      <td>[8.2, 8.3, 8.1, 8.4, 8.0, 8.4, 8.1, 8.2, 8.4, ...</td>\n",
       "      <td>[The Elephant Man (1980), Full Metal Jacket (1...</td>\n",
       "      <td>[1980, 1987, 1987, 1980, 1984, 1984, 1982, 198...</td>\n",
       "    </tr>\n",
       "    <tr>\n",
       "      <th>1990</th>\n",
       "      <td>[635139, 192165, 769893, 95212, 158867, 767224...</td>\n",
       "      <td>[8.6, 8.4, 8.5, 8.1, 8.0, 8.6, 9.2, 8.2, 8.3, ...</td>\n",
       "      <td>[Léon (1994), Mononoke-hime (1997), Saving Pri...</td>\n",
       "      <td>[1994, 1997, 1998, 1993, 1995, 1991, 1994, 199...</td>\n",
       "    </tr>\n",
       "    <tr>\n",
       "      <th>2000</th>\n",
       "      <td>[850601, 502773, 755013, 229533, 55382, 700999...</td>\n",
       "      <td>[8.3, 8.2, 8.3, 8.4, 8.0, 8.2, 8.1, 8.1, 8.3, ...</td>\n",
       "      <td>[Batman Begins (2005), Gran Torino (2008), Ing...</td>\n",
       "      <td>[2005, 2008, 2009, 2006, 2003, 2005, 2009, 200...</td>\n",
       "    </tr>\n",
       "    <tr>\n",
       "      <th>2010</th>\n",
       "      <td>[441174, 46987, 287727, 417122, 670328, 359121...</td>\n",
       "      <td>[8.1, 8.0, 8.2, 8.5, 8.1, 8.1, 8.5, 8.0, 8.2, ...</td>\n",
       "      <td>[Gone Girl (2014), Relatos salvajes (2014), Wa...</td>\n",
       "      <td>[2014, 2014, 2011, 2011, 2010, 2013, 2015, 201...</td>\n",
       "    </tr>\n",
       "  </tbody>\n",
       "</table>\n",
       "</div>"
      ],
      "text/plain": [
       "                                                    Votes  \\\n",
       "Decade                                                      \n",
       "1920                         [98794, 46332, 55784, 58506]   \n",
       "1930    [88355, 56842, 69510, 259235, 192791, 121668, ...   \n",
       "1940    [55793, 86715, 101754, 71003, 35983, 81887, 66...   \n",
       "1950    [132823, 74178, 156432, 56671, 87437, 65408, 9...   \n",
       "1960    [37664, 134552, 32385, 373482, 170302, 108128,...   \n",
       "1970    [1027398, 155691, 364225, 87591, 496833, 24288...   \n",
       "1980    [145514, 425461, 264285, 532559, 43090, 195266...   \n",
       "1990    [635139, 192165, 769893, 95212, 158867, 767224...   \n",
       "2000    [850601, 502773, 755013, 229533, 55382, 700999...   \n",
       "2010    [441174, 46987, 287727, 417122, 670328, 359121...   \n",
       "\n",
       "                                                     Rank  \\\n",
       "Decade                                                      \n",
       "1920                                 [8.3, 8.2, 8.3, 8.2]   \n",
       "1930                  [8.4, 8.1, 8.2, 8.1, 8.1, 8.5, 8.5]   \n",
       "1940    [8.1, 8.3, 8.1, 8.3, 8.1, 8.3, 8.0, 8.5, 8.0, ...   \n",
       "1950    [8.3, 8.3, 8.3, 8.0, 8.0, 8.1, 8.3, 8.0, 8.4, ...   \n",
       "1960    [8.2, 8.1, 8.0, 8.3, 8.3, 8.1, 8.5, 8.9, 8.2, ...   \n",
       "1970    [9.2, 8.3, 8.0, 8.0, 8.5, 8.1, 8.0, 8.5, 9.0, ...   \n",
       "1980    [8.2, 8.3, 8.1, 8.4, 8.0, 8.4, 8.1, 8.2, 8.4, ...   \n",
       "1990    [8.6, 8.4, 8.5, 8.1, 8.0, 8.6, 9.2, 8.2, 8.3, ...   \n",
       "2000    [8.3, 8.2, 8.3, 8.4, 8.0, 8.2, 8.1, 8.1, 8.3, ...   \n",
       "2010    [8.1, 8.0, 8.2, 8.5, 8.1, 8.1, 8.5, 8.0, 8.2, ...   \n",
       "\n",
       "                                                    Title  \\\n",
       "Decade                                                      \n",
       "1920    [Metropolis (1927), The General (1926), The Ki...   \n",
       "1930    [M (1931), It Happened One Night (1934), Mr. S...   \n",
       "1940    [The Grapes of Wrath (1940), Double Indemnity ...   \n",
       "1950    [Singin' in the Rain (1952), All About Eve (19...   \n",
       "1960    [Judgment at Nuremberg (1961), Butch Cassidy a...   \n",
       "1970    [The Godfather (1972), The Sting (1973), Jaws ...   \n",
       "1980    [The Elephant Man (1980), Full Metal Jacket (1...   \n",
       "1990    [Léon (1994), Mononoke-hime (1997), Saving Pri...   \n",
       "2000    [Batman Begins (2005), Gran Torino (2008), Ing...   \n",
       "2010    [Gone Girl (2014), Relatos salvajes (2014), Wa...   \n",
       "\n",
       "                                                     Year  \n",
       "Decade                                                     \n",
       "1920                             [1927, 1926, 1921, 1925]  \n",
       "1930           [1931, 1934, 1939, 1939, 1939, 1936, 1931]  \n",
       "1940    [1940, 1944, 1941, 1948, 1946, 1948, 1946, 194...  \n",
       "1950    [1952, 1950, 1959, 1956, 1953, 1958, 1950, 195...  \n",
       "1960    [1961, 1969, 1966, 1968, 1962, 1967, 1964, 196...  \n",
       "1970    [1972, 1973, 1975, 1973, 1979, 1979, 1975, 197...  \n",
       "1980    [1980, 1987, 1987, 1980, 1984, 1984, 1982, 198...  \n",
       "1990    [1994, 1997, 1998, 1993, 1995, 1991, 1994, 199...  \n",
       "2000    [2005, 2008, 2009, 2006, 2003, 2005, 2009, 200...  \n",
       "2010    [2014, 2014, 2011, 2011, 2010, 2013, 2015, 201...  "
      ]
     },
     "execution_count": 65,
     "metadata": {},
     "output_type": "execute_result"
    }
   ],
   "source": [
    "df.groupby(['Decade']).agg({'Rank':'mean'})\n",
    "df.groupby(['Decade']).agg(list)"
   ]
  },
  {
   "cell_type": "markdown",
   "metadata": {},
   "source": [
    "19"
   ]
  },
  {
   "cell_type": "code",
   "execution_count": 66,
   "metadata": {},
   "outputs": [
    {
     "data": {
      "text/plain": [
       "Decade\n",
       "1920     98794\n",
       "1920     46332\n",
       "1920     55784\n",
       "1920     58506\n",
       "1930     88355\n",
       "         ...  \n",
       "2010    312516\n",
       "2010    258882\n",
       "2010    133760\n",
       "2010    997350\n",
       "2010    262425\n",
       "Name: Votes, Length: 250, dtype: object"
      ]
     },
     "execution_count": 66,
     "metadata": {},
     "output_type": "execute_result"
    }
   ],
   "source": [
    "agg_df = df.groupby(['Decade']).agg(list)\n",
    "agg_df['Votes'].explode()"
   ]
  },
  {
   "cell_type": "markdown",
   "metadata": {},
   "source": [
    "20"
   ]
  },
  {
   "cell_type": "code",
   "execution_count": 67,
   "metadata": {},
   "outputs": [
    {
     "data": {
      "text/html": [
       "<div>\n",
       "<style scoped>\n",
       "    .dataframe tbody tr th:only-of-type {\n",
       "        vertical-align: middle;\n",
       "    }\n",
       "\n",
       "    .dataframe tbody tr th {\n",
       "        vertical-align: top;\n",
       "    }\n",
       "\n",
       "    .dataframe thead th {\n",
       "        text-align: right;\n",
       "    }\n",
       "</style>\n",
       "<table border=\"1\" class=\"dataframe\">\n",
       "  <thead>\n",
       "    <tr style=\"text-align: right;\">\n",
       "      <th></th>\n",
       "      <th>Votes</th>\n",
       "      <th>Rank</th>\n",
       "      <th>Title</th>\n",
       "      <th>Year</th>\n",
       "      <th>Decade</th>\n",
       "      <th>Votes</th>\n",
       "      <th>Rank</th>\n",
       "      <th>Title</th>\n",
       "      <th>Year</th>\n",
       "      <th>Decade</th>\n",
       "    </tr>\n",
       "  </thead>\n",
       "  <tbody>\n",
       "    <tr>\n",
       "      <th>0</th>\n",
       "      <td>88355</td>\n",
       "      <td>8.4</td>\n",
       "      <td>M (1931)</td>\n",
       "      <td>1931</td>\n",
       "      <td>1930</td>\n",
       "      <td>88355</td>\n",
       "      <td>8.4</td>\n",
       "      <td>M (1931)</td>\n",
       "      <td>1931</td>\n",
       "      <td>1930</td>\n",
       "    </tr>\n",
       "    <tr>\n",
       "      <th>1</th>\n",
       "      <td>132823</td>\n",
       "      <td>8.3</td>\n",
       "      <td>Singin' in the Rain (1952)</td>\n",
       "      <td>1952</td>\n",
       "      <td>1950</td>\n",
       "      <td>132823</td>\n",
       "      <td>8.3</td>\n",
       "      <td>Singin' in the Rain (1952)</td>\n",
       "      <td>1952</td>\n",
       "      <td>1950</td>\n",
       "    </tr>\n",
       "    <tr>\n",
       "      <th>2</th>\n",
       "      <td>74178</td>\n",
       "      <td>8.3</td>\n",
       "      <td>All About Eve (1950)</td>\n",
       "      <td>1950</td>\n",
       "      <td>1950</td>\n",
       "      <td>74178</td>\n",
       "      <td>8.3</td>\n",
       "      <td>All About Eve (1950)</td>\n",
       "      <td>1950</td>\n",
       "      <td>1950</td>\n",
       "    </tr>\n",
       "    <tr>\n",
       "      <th>3</th>\n",
       "      <td>635139</td>\n",
       "      <td>8.6</td>\n",
       "      <td>Léon (1994)</td>\n",
       "      <td>1994</td>\n",
       "      <td>1990</td>\n",
       "      <td>635139</td>\n",
       "      <td>8.6</td>\n",
       "      <td>Léon (1994)</td>\n",
       "      <td>1994</td>\n",
       "      <td>1990</td>\n",
       "    </tr>\n",
       "    <tr>\n",
       "      <th>4</th>\n",
       "      <td>145514</td>\n",
       "      <td>8.2</td>\n",
       "      <td>The Elephant Man (1980)</td>\n",
       "      <td>1980</td>\n",
       "      <td>1980</td>\n",
       "      <td>145514</td>\n",
       "      <td>8.2</td>\n",
       "      <td>The Elephant Man (1980)</td>\n",
       "      <td>1980</td>\n",
       "      <td>1980</td>\n",
       "    </tr>\n",
       "  </tbody>\n",
       "</table>\n",
       "</div>"
      ],
      "text/plain": [
       "    Votes  Rank                       Title  Year  Decade   Votes  Rank  \\\n",
       "0   88355   8.4                    M (1931)  1931    1930   88355   8.4   \n",
       "1  132823   8.3  Singin' in the Rain (1952)  1952    1950  132823   8.3   \n",
       "2   74178   8.3        All About Eve (1950)  1950    1950   74178   8.3   \n",
       "3  635139   8.6                 Léon (1994)  1994    1990  635139   8.6   \n",
       "4  145514   8.2     The Elephant Man (1980)  1980    1980  145514   8.2   \n",
       "\n",
       "                        Title  Year  Decade  \n",
       "0                    M (1931)  1931    1930  \n",
       "1  Singin' in the Rain (1952)  1952    1950  \n",
       "2        All About Eve (1950)  1950    1950  \n",
       "3                 Léon (1994)  1994    1990  \n",
       "4     The Elephant Man (1980)  1980    1980  "
      ]
     },
     "execution_count": 67,
     "metadata": {},
     "output_type": "execute_result"
    }
   ],
   "source": [
    "df1 = df\n",
    "df2 = df\n",
    "\n",
    "vertical = pd.concat([df1,df2], axis = 0)\n",
    "\n",
    "vertical.head()\n",
    "\n",
    "horiz = pd.concat([df1,df2], axis = 1)\n",
    "\n",
    "horiz.head()"
   ]
  },
  {
   "cell_type": "markdown",
   "metadata": {},
   "source": [
    "21"
   ]
  },
  {
   "cell_type": "code",
   "execution_count": 68,
   "metadata": {},
   "outputs": [
    {
     "data": {
      "text/html": [
       "<div>\n",
       "<style scoped>\n",
       "    .dataframe tbody tr th:only-of-type {\n",
       "        vertical-align: middle;\n",
       "    }\n",
       "\n",
       "    .dataframe tbody tr th {\n",
       "        vertical-align: top;\n",
       "    }\n",
       "\n",
       "    .dataframe thead th {\n",
       "        text-align: right;\n",
       "    }\n",
       "</style>\n",
       "<table border=\"1\" class=\"dataframe\">\n",
       "  <thead>\n",
       "    <tr style=\"text-align: right;\">\n",
       "      <th></th>\n",
       "      <th>Votes_x</th>\n",
       "      <th>Rank_x</th>\n",
       "      <th>Title</th>\n",
       "      <th>Year_x</th>\n",
       "      <th>Decade_x</th>\n",
       "      <th>Votes_y</th>\n",
       "      <th>Rank_y</th>\n",
       "      <th>Year_y</th>\n",
       "      <th>Decade_y</th>\n",
       "    </tr>\n",
       "  </thead>\n",
       "  <tbody>\n",
       "    <tr>\n",
       "      <th>0</th>\n",
       "      <td>88355</td>\n",
       "      <td>8.4</td>\n",
       "      <td>M (1931)</td>\n",
       "      <td>1931</td>\n",
       "      <td>1930</td>\n",
       "      <td>88355</td>\n",
       "      <td>8.4</td>\n",
       "      <td>1931</td>\n",
       "      <td>1930</td>\n",
       "    </tr>\n",
       "    <tr>\n",
       "      <th>1</th>\n",
       "      <td>132823</td>\n",
       "      <td>8.3</td>\n",
       "      <td>Singin' in the Rain (1952)</td>\n",
       "      <td>1952</td>\n",
       "      <td>1950</td>\n",
       "      <td>132823</td>\n",
       "      <td>8.3</td>\n",
       "      <td>1952</td>\n",
       "      <td>1950</td>\n",
       "    </tr>\n",
       "    <tr>\n",
       "      <th>2</th>\n",
       "      <td>74178</td>\n",
       "      <td>8.3</td>\n",
       "      <td>All About Eve (1950)</td>\n",
       "      <td>1950</td>\n",
       "      <td>1950</td>\n",
       "      <td>74178</td>\n",
       "      <td>8.3</td>\n",
       "      <td>1950</td>\n",
       "      <td>1950</td>\n",
       "    </tr>\n",
       "    <tr>\n",
       "      <th>3</th>\n",
       "      <td>635139</td>\n",
       "      <td>8.6</td>\n",
       "      <td>Léon (1994)</td>\n",
       "      <td>1994</td>\n",
       "      <td>1990</td>\n",
       "      <td>635139</td>\n",
       "      <td>8.6</td>\n",
       "      <td>1994</td>\n",
       "      <td>1990</td>\n",
       "    </tr>\n",
       "    <tr>\n",
       "      <th>4</th>\n",
       "      <td>145514</td>\n",
       "      <td>8.2</td>\n",
       "      <td>The Elephant Man (1980)</td>\n",
       "      <td>1980</td>\n",
       "      <td>1980</td>\n",
       "      <td>145514</td>\n",
       "      <td>8.2</td>\n",
       "      <td>1980</td>\n",
       "      <td>1980</td>\n",
       "    </tr>\n",
       "    <tr>\n",
       "      <th>...</th>\n",
       "      <td>...</td>\n",
       "      <td>...</td>\n",
       "      <td>...</td>\n",
       "      <td>...</td>\n",
       "      <td>...</td>\n",
       "      <td>...</td>\n",
       "      <td>...</td>\n",
       "      <td>...</td>\n",
       "      <td>...</td>\n",
       "    </tr>\n",
       "    <tr>\n",
       "      <th>245</th>\n",
       "      <td>1078416</td>\n",
       "      <td>8.7</td>\n",
       "      <td>Forrest Gump (1994)</td>\n",
       "      <td>1994</td>\n",
       "      <td>1990</td>\n",
       "      <td>1078416</td>\n",
       "      <td>8.7</td>\n",
       "      <td>1994</td>\n",
       "      <td>1990</td>\n",
       "    </tr>\n",
       "    <tr>\n",
       "      <th>246</th>\n",
       "      <td>31003</td>\n",
       "      <td>8.1</td>\n",
       "      <td>Le salaire de la peur (1953)</td>\n",
       "      <td>1953</td>\n",
       "      <td>1950</td>\n",
       "      <td>31003</td>\n",
       "      <td>8.1</td>\n",
       "      <td>1953</td>\n",
       "      <td>1950</td>\n",
       "    </tr>\n",
       "    <tr>\n",
       "      <th>247</th>\n",
       "      <td>167076</td>\n",
       "      <td>8.2</td>\n",
       "      <td>3 Idiots (2009)</td>\n",
       "      <td>2009</td>\n",
       "      <td>2000</td>\n",
       "      <td>167076</td>\n",
       "      <td>8.2</td>\n",
       "      <td>2009</td>\n",
       "      <td>2000</td>\n",
       "    </tr>\n",
       "    <tr>\n",
       "      <th>248</th>\n",
       "      <td>91689</td>\n",
       "      <td>8.1</td>\n",
       "      <td>Network (1976)</td>\n",
       "      <td>1976</td>\n",
       "      <td>1970</td>\n",
       "      <td>91689</td>\n",
       "      <td>8.1</td>\n",
       "      <td>1976</td>\n",
       "      <td>1970</td>\n",
       "    </tr>\n",
       "    <tr>\n",
       "      <th>249</th>\n",
       "      <td>589477</td>\n",
       "      <td>8.3</td>\n",
       "      <td>Eternal Sunshine of the Spotless Mind (2004)</td>\n",
       "      <td>2004</td>\n",
       "      <td>2000</td>\n",
       "      <td>589477</td>\n",
       "      <td>8.3</td>\n",
       "      <td>2004</td>\n",
       "      <td>2000</td>\n",
       "    </tr>\n",
       "  </tbody>\n",
       "</table>\n",
       "<p>250 rows × 9 columns</p>\n",
       "</div>"
      ],
      "text/plain": [
       "     Votes_x  Rank_x                                         Title  Year_x  \\\n",
       "0      88355     8.4                                      M (1931)    1931   \n",
       "1     132823     8.3                    Singin' in the Rain (1952)    1952   \n",
       "2      74178     8.3                          All About Eve (1950)    1950   \n",
       "3     635139     8.6                                   Léon (1994)    1994   \n",
       "4     145514     8.2                       The Elephant Man (1980)    1980   \n",
       "..       ...     ...                                           ...     ...   \n",
       "245  1078416     8.7                           Forrest Gump (1994)    1994   \n",
       "246    31003     8.1                  Le salaire de la peur (1953)    1953   \n",
       "247   167076     8.2                               3 Idiots (2009)    2009   \n",
       "248    91689     8.1                                Network (1976)    1976   \n",
       "249   589477     8.3  Eternal Sunshine of the Spotless Mind (2004)    2004   \n",
       "\n",
       "     Decade_x  Votes_y  Rank_y  Year_y  Decade_y  \n",
       "0        1930    88355     8.4    1931      1930  \n",
       "1        1950   132823     8.3    1952      1950  \n",
       "2        1950    74178     8.3    1950      1950  \n",
       "3        1990   635139     8.6    1994      1990  \n",
       "4        1980   145514     8.2    1980      1980  \n",
       "..        ...      ...     ...     ...       ...  \n",
       "245      1990  1078416     8.7    1994      1990  \n",
       "246      1950    31003     8.1    1953      1950  \n",
       "247      2000   167076     8.2    2009      2000  \n",
       "248      1970    91689     8.1    1976      1970  \n",
       "249      2000   589477     8.3    2004      2000  \n",
       "\n",
       "[250 rows x 9 columns]"
      ]
     },
     "execution_count": 68,
     "metadata": {},
     "output_type": "execute_result"
    }
   ],
   "source": [
    "df1.merge(df2, on=[\"Title\"], how=\"inner\")"
   ]
  },
  {
   "cell_type": "markdown",
   "metadata": {},
   "source": [
    "* What are some useful things you can you do with numpy and pandas?\n",
    "    * Mass transforms on values in a dataframe.\n",
    "    * Generating random data.\n",
    "    * Merging, sorting and aggregating data.\n",
    "    * Slicing and filtering data.\n",
    "    * Generating statistics on data.\n",
    "    * Reshaping data.\n",
    "    * Sophisticated value transforms using functions and the pandas `apply` function.\n",
    "* Why would those useful things be helpful in data analysis?\n",
    "    * The data a data scientist will consume will rarely be perfectly formatted. Alot of the tools numpy and pandas provide can help one transform the data into output for other programs. \n",
    "    * One role of a data scientist is to think about data in different ways and numpy and pandas have multiple tools that can provide new insights into the data.\n",
    "* What challenges did you have in following the examples?\n",
    "    * I find it challening at times to reshape data, especially multidimensional data. I had to re-read the `swapaxes` function a few times to understand its purpose. It's still unclear right now how I would use the `reshape` and `swapaxes` functions.\n",
    "    * The `gradient`, and `cross` functions are new to me and I don't know how to use them correctly."
   ]
  }
 ],
 "metadata": {
  "kernelspec": {
   "display_name": "Python 3",
   "language": "python",
   "name": "python3"
  },
  "language_info": {
   "codemirror_mode": {
    "name": "ipython",
    "version": 3
   },
   "file_extension": ".py",
   "mimetype": "text/x-python",
   "name": "python",
   "nbconvert_exporter": "python",
   "pygments_lexer": "ipython3",
   "version": "3.7.2"
  }
 },
 "nbformat": 4,
 "nbformat_minor": 2
}
